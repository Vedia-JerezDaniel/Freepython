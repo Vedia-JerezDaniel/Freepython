{
 "cells": [
  {
   "cell_type": "markdown",
   "metadata": {},
   "source": [
    "![rmotr](https://user-images.githubusercontent.com/7065401/52071918-bda15380-2562-11e9-828c-7f95297e4a82.png)\n",
    "<hr style=\"margin-bottom: 40px;\">\n",
    "\n",
    "<img src=\"https://user-images.githubusercontent.com/7065401/58563302-42466a80-8201-11e9-9948-b3e9f88a5662.jpg\"\n",
    "    style=\"width:400px; float: right; margin: 0 40px 40px 40px;\"></img>\n",
    "\n",
    "# Bike store sales\n",
    "\n",
    "In this class we'll be analyzing sales made on bike stores.\n",
    "\n",
    "[Follow this data in a Google Spreadsheet](https://docs.google.com/spreadsheets/d/1NOe_UrPx6ULF2C5MvHmZ9ODuw8t9M77Q1Y64gP-7JHA/edit?usp=sharing)"
   ]
  },
  {
   "cell_type": "markdown",
   "metadata": {},
   "source": [
    "![purple-divider](https://user-images.githubusercontent.com/7065401/52071927-c1cd7100-2562-11e9-908a-dde91ba14e59.png)\n",
    "\n",
    "## Hands on! "
   ]
  },
  {
   "cell_type": "code",
   "execution_count": 1,
   "metadata": {},
   "outputs": [],
   "source": [
    "import numpy as np\n",
    "import pandas as pd\n",
    "import matplotlib.pyplot as plt\n",
    "\n",
    "%matplotlib inline"
   ]
  },
  {
   "cell_type": "markdown",
   "metadata": {},
   "source": [
    "![green-divider](https://user-images.githubusercontent.com/7065401/52071924-c003ad80-2562-11e9-8297-1c6595f8a7ff.png)\n",
    "\n",
    "## Loading our data:"
   ]
  },
  {
   "cell_type": "code",
   "execution_count": 2,
   "metadata": {
    "tags": []
   },
   "outputs": [
    {
     "output_type": "stream",
     "name": "stdout",
     "text": "Date,Day,Month,Year,Customer_Age,Age_Group,Customer_Gender,Country,State,Product_Category,Sub_Category,Product,Order_Quantity,Unit_Cost,Unit_Price,Profit,Cost,Revenue\n2013-11-26,26,November,2013,19,Youth (<25),M,Canada,British Columbia,Accessories,Bike Racks,Hitch Rack - 4-Bike,8,45,120,590,360,950\n2015-11-26,26,November,2015,19,Youth (<25),M,Canada,British Columbia,Accessories,Bike Racks,Hitch Rack - 4-Bike,8,45,120,590,360,950\n2014-03-23,23,March,2014,49,Adults (35-64),M,Australia,New South Wales,Accessories,Bike Racks,Hitch Rack - 4-Bike,23,45,120,1366,1035,2401\n2016-03-23,23,March,2016,49,Adults (35-64),M,Australia,New South Wales,Accessories,Bike Racks,Hitch Rack - 4-Bike,20,45,120,1188,900,2088\n2014-05-15,15,May,2014,47,Adults (35-64),F,Australia,New South Wales,Accessories,Bike Racks,Hitch Rack - 4-Bike,4,45,120,238,180,418\n2016-05-15,15,May,2016,47,Adults (35-64),F,Australia,New South Wales,Accessories,Bike Racks,Hitch Rack - 4-Bike,5,45,120,297,225,522\n2014-05-22,22,May,2014,47,Adults (35-64),F,Australia,Victoria,Accessories,Bike Racks,Hitch Rack - 4-Bike,4,45,120,199,180,379\n2016-05-22,22,May,2016,47,Adults (35-64),F,Australia,Victoria,Accessories,Bike Racks,Hitch Rack - 4-Bike,2,45,120,100,90,190\n2014-02-22,22,February,2014,35,Adults (35-64),M,Australia,Victoria,Accessories,Bike Racks,Hitch Rack - 4-Bike,22,45,120,1096,990,2086\n"
    }
   ],
   "source": [
    "!head data/sales_data.csv"
   ]
  },
  {
   "cell_type": "code",
   "execution_count": 3,
   "metadata": {},
   "outputs": [],
   "source": [
    "sales = pd.read_csv(\n",
    "    'data/sales_data.csv',\n",
    "    parse_dates=['Date'])"
   ]
  },
  {
   "cell_type": "markdown",
   "metadata": {},
   "source": [
    "![green-divider](https://user-images.githubusercontent.com/7065401/52071924-c003ad80-2562-11e9-8297-1c6595f8a7ff.png)\n",
    "\n",
    "## The data at a glance:"
   ]
  },
  {
   "cell_type": "code",
   "execution_count": 4,
   "metadata": {},
   "outputs": [
    {
     "output_type": "execute_result",
     "data": {
      "text/plain": "        Date  Day     Month  Year  Customer_Age       Age_Group  \\\n0 2013-11-26   26  November  2013            19     Youth (<25)   \n1 2015-11-26   26  November  2015            19     Youth (<25)   \n2 2014-03-23   23     March  2014            49  Adults (35-64)   \n3 2016-03-23   23     March  2016            49  Adults (35-64)   \n4 2014-05-15   15       May  2014            47  Adults (35-64)   \n\n  Customer_Gender    Country             State Product_Category Sub_Category  \\\n0               M     Canada  British Columbia      Accessories   Bike Racks   \n1               M     Canada  British Columbia      Accessories   Bike Racks   \n2               M  Australia   New South Wales      Accessories   Bike Racks   \n3               M  Australia   New South Wales      Accessories   Bike Racks   \n4               F  Australia   New South Wales      Accessories   Bike Racks   \n\n               Product  Order_Quantity  Unit_Cost  Unit_Price  Profit  Cost  \\\n0  Hitch Rack - 4-Bike               8         45         120     590   360   \n1  Hitch Rack - 4-Bike               8         45         120     590   360   \n2  Hitch Rack - 4-Bike              23         45         120    1366  1035   \n3  Hitch Rack - 4-Bike              20         45         120    1188   900   \n4  Hitch Rack - 4-Bike               4         45         120     238   180   \n\n   Revenue  \n0      950  \n1      950  \n2     2401  \n3     2088  \n4      418  ",
      "text/html": "<div>\n<style scoped>\n    .dataframe tbody tr th:only-of-type {\n        vertical-align: middle;\n    }\n\n    .dataframe tbody tr th {\n        vertical-align: top;\n    }\n\n    .dataframe thead th {\n        text-align: right;\n    }\n</style>\n<table border=\"1\" class=\"dataframe\">\n  <thead>\n    <tr style=\"text-align: right;\">\n      <th></th>\n      <th>Date</th>\n      <th>Day</th>\n      <th>Month</th>\n      <th>Year</th>\n      <th>Customer_Age</th>\n      <th>Age_Group</th>\n      <th>Customer_Gender</th>\n      <th>Country</th>\n      <th>State</th>\n      <th>Product_Category</th>\n      <th>Sub_Category</th>\n      <th>Product</th>\n      <th>Order_Quantity</th>\n      <th>Unit_Cost</th>\n      <th>Unit_Price</th>\n      <th>Profit</th>\n      <th>Cost</th>\n      <th>Revenue</th>\n    </tr>\n  </thead>\n  <tbody>\n    <tr>\n      <th>0</th>\n      <td>2013-11-26</td>\n      <td>26</td>\n      <td>November</td>\n      <td>2013</td>\n      <td>19</td>\n      <td>Youth (&lt;25)</td>\n      <td>M</td>\n      <td>Canada</td>\n      <td>British Columbia</td>\n      <td>Accessories</td>\n      <td>Bike Racks</td>\n      <td>Hitch Rack - 4-Bike</td>\n      <td>8</td>\n      <td>45</td>\n      <td>120</td>\n      <td>590</td>\n      <td>360</td>\n      <td>950</td>\n    </tr>\n    <tr>\n      <th>1</th>\n      <td>2015-11-26</td>\n      <td>26</td>\n      <td>November</td>\n      <td>2015</td>\n      <td>19</td>\n      <td>Youth (&lt;25)</td>\n      <td>M</td>\n      <td>Canada</td>\n      <td>British Columbia</td>\n      <td>Accessories</td>\n      <td>Bike Racks</td>\n      <td>Hitch Rack - 4-Bike</td>\n      <td>8</td>\n      <td>45</td>\n      <td>120</td>\n      <td>590</td>\n      <td>360</td>\n      <td>950</td>\n    </tr>\n    <tr>\n      <th>2</th>\n      <td>2014-03-23</td>\n      <td>23</td>\n      <td>March</td>\n      <td>2014</td>\n      <td>49</td>\n      <td>Adults (35-64)</td>\n      <td>M</td>\n      <td>Australia</td>\n      <td>New South Wales</td>\n      <td>Accessories</td>\n      <td>Bike Racks</td>\n      <td>Hitch Rack - 4-Bike</td>\n      <td>23</td>\n      <td>45</td>\n      <td>120</td>\n      <td>1366</td>\n      <td>1035</td>\n      <td>2401</td>\n    </tr>\n    <tr>\n      <th>3</th>\n      <td>2016-03-23</td>\n      <td>23</td>\n      <td>March</td>\n      <td>2016</td>\n      <td>49</td>\n      <td>Adults (35-64)</td>\n      <td>M</td>\n      <td>Australia</td>\n      <td>New South Wales</td>\n      <td>Accessories</td>\n      <td>Bike Racks</td>\n      <td>Hitch Rack - 4-Bike</td>\n      <td>20</td>\n      <td>45</td>\n      <td>120</td>\n      <td>1188</td>\n      <td>900</td>\n      <td>2088</td>\n    </tr>\n    <tr>\n      <th>4</th>\n      <td>2014-05-15</td>\n      <td>15</td>\n      <td>May</td>\n      <td>2014</td>\n      <td>47</td>\n      <td>Adults (35-64)</td>\n      <td>F</td>\n      <td>Australia</td>\n      <td>New South Wales</td>\n      <td>Accessories</td>\n      <td>Bike Racks</td>\n      <td>Hitch Rack - 4-Bike</td>\n      <td>4</td>\n      <td>45</td>\n      <td>120</td>\n      <td>238</td>\n      <td>180</td>\n      <td>418</td>\n    </tr>\n  </tbody>\n</table>\n</div>"
     },
     "metadata": {},
     "execution_count": 4
    }
   ],
   "source": [
    "sales.head()"
   ]
  },
  {
   "cell_type": "code",
   "execution_count": 5,
   "metadata": {},
   "outputs": [
    {
     "data": {
      "text/plain": [
       "(113036, 18)"
      ]
     },
     "execution_count": 5,
     "metadata": {},
     "output_type": "execute_result"
    }
   ],
   "source": [
    "sales.shape"
   ]
  },
  {
   "cell_type": "code",
   "execution_count": 6,
   "metadata": {},
   "outputs": [
    {
     "name": "stdout",
     "output_type": "stream",
     "text": [
      "<class 'pandas.core.frame.DataFrame'>\n",
      "RangeIndex: 113036 entries, 0 to 113035\n",
      "Data columns (total 18 columns):\n",
      " #   Column            Non-Null Count   Dtype         \n",
      "---  ------            --------------   -----         \n",
      " 0   Date              113036 non-null  datetime64[ns]\n",
      " 1   Day               113036 non-null  int64         \n",
      " 2   Month             113036 non-null  object        \n",
      " 3   Year              113036 non-null  int64         \n",
      " 4   Customer_Age      113036 non-null  int64         \n",
      " 5   Age_Group         113036 non-null  object        \n",
      " 6   Customer_Gender   113036 non-null  object        \n",
      " 7   Country           113036 non-null  object        \n",
      " 8   State             113036 non-null  object        \n",
      " 9   Product_Category  113036 non-null  object        \n",
      " 10  Sub_Category      113036 non-null  object        \n",
      " 11  Product           113036 non-null  object        \n",
      " 12  Order_Quantity    113036 non-null  int64         \n",
      " 13  Unit_Cost         113036 non-null  int64         \n",
      " 14  Unit_Price        113036 non-null  int64         \n",
      " 15  Profit            113036 non-null  int64         \n",
      " 16  Cost              113036 non-null  int64         \n",
      " 17  Revenue           113036 non-null  int64         \n",
      "dtypes: datetime64[ns](1), int64(9), object(8)\n",
      "memory usage: 15.5+ MB\n"
     ]
    }
   ],
   "source": [
    "sales.info()"
   ]
  },
  {
   "cell_type": "code",
   "execution_count": 8,
   "metadata": {},
   "outputs": [
    {
     "data": {
      "text/html": [
       "<div>\n",
       "<style scoped>\n",
       "    .dataframe tbody tr th:only-of-type {\n",
       "        vertical-align: middle;\n",
       "    }\n",
       "\n",
       "    .dataframe tbody tr th {\n",
       "        vertical-align: top;\n",
       "    }\n",
       "\n",
       "    .dataframe thead th {\n",
       "        text-align: right;\n",
       "    }\n",
       "</style>\n",
       "<table border=\"1\" class=\"dataframe\">\n",
       "  <thead>\n",
       "    <tr style=\"text-align: right;\">\n",
       "      <th></th>\n",
       "      <th>Day</th>\n",
       "      <th>Year</th>\n",
       "      <th>Customer_Age</th>\n",
       "      <th>Order_Quantity</th>\n",
       "      <th>Unit_Cost</th>\n",
       "      <th>Unit_Price</th>\n",
       "      <th>Profit</th>\n",
       "      <th>Cost</th>\n",
       "      <th>Revenue</th>\n",
       "    </tr>\n",
       "  </thead>\n",
       "  <tbody>\n",
       "    <tr>\n",
       "      <th>count</th>\n",
       "      <td>113036.000000</td>\n",
       "      <td>113036.000000</td>\n",
       "      <td>113036.000000</td>\n",
       "      <td>113036.000000</td>\n",
       "      <td>113036.000000</td>\n",
       "      <td>113036.000000</td>\n",
       "      <td>113036.000000</td>\n",
       "      <td>113036.000000</td>\n",
       "      <td>113036.000000</td>\n",
       "    </tr>\n",
       "    <tr>\n",
       "      <th>mean</th>\n",
       "      <td>15.665753</td>\n",
       "      <td>2014.401739</td>\n",
       "      <td>35.919212</td>\n",
       "      <td>11.901660</td>\n",
       "      <td>267.296366</td>\n",
       "      <td>452.938427</td>\n",
       "      <td>285.051665</td>\n",
       "      <td>469.318695</td>\n",
       "      <td>754.370360</td>\n",
       "    </tr>\n",
       "    <tr>\n",
       "      <th>std</th>\n",
       "      <td>8.781567</td>\n",
       "      <td>1.272510</td>\n",
       "      <td>11.021936</td>\n",
       "      <td>9.561857</td>\n",
       "      <td>549.835483</td>\n",
       "      <td>922.071219</td>\n",
       "      <td>453.887443</td>\n",
       "      <td>884.866118</td>\n",
       "      <td>1309.094674</td>\n",
       "    </tr>\n",
       "    <tr>\n",
       "      <th>min</th>\n",
       "      <td>1.000000</td>\n",
       "      <td>2011.000000</td>\n",
       "      <td>17.000000</td>\n",
       "      <td>1.000000</td>\n",
       "      <td>1.000000</td>\n",
       "      <td>2.000000</td>\n",
       "      <td>-30.000000</td>\n",
       "      <td>1.000000</td>\n",
       "      <td>2.000000</td>\n",
       "    </tr>\n",
       "    <tr>\n",
       "      <th>25%</th>\n",
       "      <td>8.000000</td>\n",
       "      <td>2013.000000</td>\n",
       "      <td>28.000000</td>\n",
       "      <td>2.000000</td>\n",
       "      <td>2.000000</td>\n",
       "      <td>5.000000</td>\n",
       "      <td>29.000000</td>\n",
       "      <td>28.000000</td>\n",
       "      <td>63.000000</td>\n",
       "    </tr>\n",
       "    <tr>\n",
       "      <th>50%</th>\n",
       "      <td>16.000000</td>\n",
       "      <td>2014.000000</td>\n",
       "      <td>35.000000</td>\n",
       "      <td>10.000000</td>\n",
       "      <td>9.000000</td>\n",
       "      <td>24.000000</td>\n",
       "      <td>101.000000</td>\n",
       "      <td>108.000000</td>\n",
       "      <td>223.000000</td>\n",
       "    </tr>\n",
       "    <tr>\n",
       "      <th>75%</th>\n",
       "      <td>23.000000</td>\n",
       "      <td>2016.000000</td>\n",
       "      <td>43.000000</td>\n",
       "      <td>20.000000</td>\n",
       "      <td>42.000000</td>\n",
       "      <td>70.000000</td>\n",
       "      <td>358.000000</td>\n",
       "      <td>432.000000</td>\n",
       "      <td>800.000000</td>\n",
       "    </tr>\n",
       "    <tr>\n",
       "      <th>max</th>\n",
       "      <td>31.000000</td>\n",
       "      <td>2016.000000</td>\n",
       "      <td>87.000000</td>\n",
       "      <td>32.000000</td>\n",
       "      <td>2171.000000</td>\n",
       "      <td>3578.000000</td>\n",
       "      <td>15096.000000</td>\n",
       "      <td>42978.000000</td>\n",
       "      <td>58074.000000</td>\n",
       "    </tr>\n",
       "  </tbody>\n",
       "</table>\n",
       "</div>"
      ],
      "text/plain": [
       "                 Day           Year   Customer_Age  Order_Quantity  \\\n",
       "count  113036.000000  113036.000000  113036.000000   113036.000000   \n",
       "mean       15.665753    2014.401739      35.919212       11.901660   \n",
       "std         8.781567       1.272510      11.021936        9.561857   \n",
       "min         1.000000    2011.000000      17.000000        1.000000   \n",
       "25%         8.000000    2013.000000      28.000000        2.000000   \n",
       "50%        16.000000    2014.000000      35.000000       10.000000   \n",
       "75%        23.000000    2016.000000      43.000000       20.000000   \n",
       "max        31.000000    2016.000000      87.000000       32.000000   \n",
       "\n",
       "           Unit_Cost     Unit_Price         Profit           Cost  \\\n",
       "count  113036.000000  113036.000000  113036.000000  113036.000000   \n",
       "mean      267.296366     452.938427     285.051665     469.318695   \n",
       "std       549.835483     922.071219     453.887443     884.866118   \n",
       "min         1.000000       2.000000     -30.000000       1.000000   \n",
       "25%         2.000000       5.000000      29.000000      28.000000   \n",
       "50%         9.000000      24.000000     101.000000     108.000000   \n",
       "75%        42.000000      70.000000     358.000000     432.000000   \n",
       "max      2171.000000    3578.000000   15096.000000   42978.000000   \n",
       "\n",
       "             Revenue  \n",
       "count  113036.000000  \n",
       "mean      754.370360  \n",
       "std      1309.094674  \n",
       "min         2.000000  \n",
       "25%        63.000000  \n",
       "50%       223.000000  \n",
       "75%       800.000000  \n",
       "max     58074.000000  "
      ]
     },
     "execution_count": 8,
     "metadata": {},
     "output_type": "execute_result"
    }
   ],
   "source": [
    "sales.describe()"
   ]
  },
  {
   "cell_type": "markdown",
   "metadata": {},
   "source": [
    "![green-divider](https://user-images.githubusercontent.com/7065401/52071924-c003ad80-2562-11e9-8297-1c6595f8a7ff.png)\n",
    "\n",
    "## Numerical analysis and visualization\n",
    "\n",
    "We'll analyze the `Unit_Cost` column:"
   ]
  },
  {
   "cell_type": "code",
   "execution_count": 9,
   "metadata": {},
   "outputs": [
    {
     "data": {
      "text/plain": [
       "count    113036.000000\n",
       "mean        267.296366\n",
       "std         549.835483\n",
       "min           1.000000\n",
       "25%           2.000000\n",
       "50%           9.000000\n",
       "75%          42.000000\n",
       "max        2171.000000\n",
       "Name: Unit_Cost, dtype: float64"
      ]
     },
     "execution_count": 9,
     "metadata": {},
     "output_type": "execute_result"
    }
   ],
   "source": [
    "sales['Unit_Cost'].describe()"
   ]
  },
  {
   "cell_type": "code",
   "execution_count": 10,
   "metadata": {},
   "outputs": [
    {
     "data": {
      "text/plain": [
       "267.296365759581"
      ]
     },
     "execution_count": 10,
     "metadata": {},
     "output_type": "execute_result"
    }
   ],
   "source": [
    "sales['Unit_Cost'].mean()"
   ]
  },
  {
   "cell_type": "code",
   "execution_count": 11,
   "metadata": {},
   "outputs": [
    {
     "data": {
      "text/plain": [
       "9.0"
      ]
     },
     "execution_count": 11,
     "metadata": {},
     "output_type": "execute_result"
    }
   ],
   "source": [
    "sales['Unit_Cost'].median()"
   ]
  },
  {
   "cell_type": "code",
   "execution_count": 16,
   "metadata": {},
   "outputs": [
    {
     "data": {
      "text/plain": [
       "<AxesSubplot:>"
      ]
     },
     "execution_count": 16,
     "metadata": {},
     "output_type": "execute_result"
    },
    {
     "data": {
      "image/png": "[encoded data removed]",
      "text/plain": [
       "<Figure size 216x432 with 1 Axes>"
      ]
     },
     "metadata": {
      "needs_background": "light"
     },
     "output_type": "display_data"
    }
   ],
   "source": [
    "sales['Unit_Cost'].plot(kind='box', vert=True, figsize=(3,6))"
   ]
  },
  {
   "cell_type": "code",
   "execution_count": 18,
   "metadata": {},
   "outputs": [
    {
     "data": {
      "text/plain": [
       "<AxesSubplot:ylabel='Density'>"
      ]
     },
     "execution_count": 18,
     "metadata": {},
     "output_type": "execute_result"
    },
    {
     "data": {
      "image/png": "[encoded data removed]",
      "text/plain": [
       "<Figure size 1008x432 with 1 Axes>"
      ]
     },
     "metadata": {
      "needs_background": "light"
     },
     "output_type": "display_data"
    }
   ],
   "source": [
    "sales['Unit_Cost'].plot(kind='density', figsize=(14,6)) # kde"
   ]
  },
  {
   "cell_type": "code",
   "execution_count": 19,
   "metadata": {},
   "outputs": [
    {
     "data": {
      "text/plain": [
       "<matplotlib.lines.Line2D at 0x7fcad37efbe0>"
      ]
     },
     "execution_count": 19,
     "metadata": {},
     "output_type": "execute_result"
    },
    {
     "data": {
      "image/png": "[encoded data removed]",
      "text/plain": [
       "<Figure size 1008x432 with 1 Axes>"
      ]
     },
     "metadata": {
      "needs_background": "light"
     },
     "output_type": "display_data"
    }
   ],
   "source": [
    "ax = sales['Unit_Cost'].plot(kind='density', figsize=(14,6)) # kde\n",
    "ax.axvline(sales['Unit_Cost'].mean(), color='red')\n",
    "ax.axvline(sales['Unit_Cost'].median(), color='green')"
   ]
  },
  {
   "cell_type": "code",
   "execution_count": 22,
   "metadata": {},
   "outputs": [
    {
     "data": {
      "text/plain": [
       "Text(0.5, 0, 'dollars')"
      ]
     },
     "execution_count": 22,
     "metadata": {},
     "output_type": "execute_result"
    },
    {
     "data": {
      "image/png": "[encoded data removed]",
      "text/plain": [
       "<Figure size 1008x432 with 1 Axes>"
      ]
     },
     "metadata": {
      "needs_background": "light"
     },
     "output_type": "display_data"
    }
   ],
   "source": [
    "ax = sales['Unit_Cost'].plot(kind='hist', figsize=(14,6), bins=10)\n",
    "ax.set_ylabel('Number of Sales')\n",
    "ax.set_xlabel('dollars')"
   ]
  },
  {
   "cell_type": "markdown",
   "metadata": {},
   "source": [
    "![green-divider](https://user-images.githubusercontent.com/7065401/52071924-c003ad80-2562-11e9-8297-1c6595f8a7ff.png)\n",
    "\n",
    "## Categorical analysis and visualization\n",
    "\n",
    "We'll analyze the `Age_Group` column:"
   ]
  },
  {
   "cell_type": "code",
   "execution_count": 23,
   "metadata": {},
   "outputs": [
    {
     "data": {
      "text/html": [
       "<div>\n",
       "<style scoped>\n",
       "    .dataframe tbody tr th:only-of-type {\n",
       "        vertical-align: middle;\n",
       "    }\n",
       "\n",
       "    .dataframe tbody tr th {\n",
       "        vertical-align: top;\n",
       "    }\n",
       "\n",
       "    .dataframe thead th {\n",
       "        text-align: right;\n",
       "    }\n",
       "</style>\n",
       "<table border=\"1\" class=\"dataframe\">\n",
       "  <thead>\n",
       "    <tr style=\"text-align: right;\">\n",
       "      <th></th>\n",
       "      <th>Date</th>\n",
       "      <th>Day</th>\n",
       "      <th>Month</th>\n",
       "      <th>Year</th>\n",
       "      <th>Customer_Age</th>\n",
       "      <th>Age_Group</th>\n",
       "      <th>Customer_Gender</th>\n",
       "      <th>Country</th>\n",
       "      <th>State</th>\n",
       "      <th>Product_Category</th>\n",
       "      <th>Sub_Category</th>\n",
       "      <th>Product</th>\n",
       "      <th>Order_Quantity</th>\n",
       "      <th>Unit_Cost</th>\n",
       "      <th>Unit_Price</th>\n",
       "      <th>Profit</th>\n",
       "      <th>Cost</th>\n",
       "      <th>Revenue</th>\n",
       "    </tr>\n",
       "  </thead>\n",
       "  <tbody>\n",
       "    <tr>\n",
       "      <th>0</th>\n",
       "      <td>2013-11-26</td>\n",
       "      <td>26</td>\n",
       "      <td>November</td>\n",
       "      <td>2013</td>\n",
       "      <td>19</td>\n",
       "      <td>Youth (&lt;25)</td>\n",
       "      <td>M</td>\n",
       "      <td>Canada</td>\n",
       "      <td>British Columbia</td>\n",
       "      <td>Accessories</td>\n",
       "      <td>Bike Racks</td>\n",
       "      <td>Hitch Rack - 4-Bike</td>\n",
       "      <td>8</td>\n",
       "      <td>45</td>\n",
       "      <td>120</td>\n",
       "      <td>590</td>\n",
       "      <td>360</td>\n",
       "      <td>950</td>\n",
       "    </tr>\n",
       "    <tr>\n",
       "      <th>1</th>\n",
       "      <td>2015-11-26</td>\n",
       "      <td>26</td>\n",
       "      <td>November</td>\n",
       "      <td>2015</td>\n",
       "      <td>19</td>\n",
       "      <td>Youth (&lt;25)</td>\n",
       "      <td>M</td>\n",
       "      <td>Canada</td>\n",
       "      <td>British Columbia</td>\n",
       "      <td>Accessories</td>\n",
       "      <td>Bike Racks</td>\n",
       "      <td>Hitch Rack - 4-Bike</td>\n",
       "      <td>8</td>\n",
       "      <td>45</td>\n",
       "      <td>120</td>\n",
       "      <td>590</td>\n",
       "      <td>360</td>\n",
       "      <td>950</td>\n",
       "    </tr>\n",
       "    <tr>\n",
       "      <th>2</th>\n",
       "      <td>2014-03-23</td>\n",
       "      <td>23</td>\n",
       "      <td>March</td>\n",
       "      <td>2014</td>\n",
       "      <td>49</td>\n",
       "      <td>Adults (35-64)</td>\n",
       "      <td>M</td>\n",
       "      <td>Australia</td>\n",
       "      <td>New South Wales</td>\n",
       "      <td>Accessories</td>\n",
       "      <td>Bike Racks</td>\n",
       "      <td>Hitch Rack - 4-Bike</td>\n",
       "      <td>23</td>\n",
       "      <td>45</td>\n",
       "      <td>120</td>\n",
       "      <td>1366</td>\n",
       "      <td>1035</td>\n",
       "      <td>2401</td>\n",
       "    </tr>\n",
       "    <tr>\n",
       "      <th>3</th>\n",
       "      <td>2016-03-23</td>\n",
       "      <td>23</td>\n",
       "      <td>March</td>\n",
       "      <td>2016</td>\n",
       "      <td>49</td>\n",
       "      <td>Adults (35-64)</td>\n",
       "      <td>M</td>\n",
       "      <td>Australia</td>\n",
       "      <td>New South Wales</td>\n",
       "      <td>Accessories</td>\n",
       "      <td>Bike Racks</td>\n",
       "      <td>Hitch Rack - 4-Bike</td>\n",
       "      <td>20</td>\n",
       "      <td>45</td>\n",
       "      <td>120</td>\n",
       "      <td>1188</td>\n",
       "      <td>900</td>\n",
       "      <td>2088</td>\n",
       "    </tr>\n",
       "    <tr>\n",
       "      <th>4</th>\n",
       "      <td>2014-05-15</td>\n",
       "      <td>15</td>\n",
       "      <td>May</td>\n",
       "      <td>2014</td>\n",
       "      <td>47</td>\n",
       "      <td>Adults (35-64)</td>\n",
       "      <td>F</td>\n",
       "      <td>Australia</td>\n",
       "      <td>New South Wales</td>\n",
       "      <td>Accessories</td>\n",
       "      <td>Bike Racks</td>\n",
       "      <td>Hitch Rack - 4-Bike</td>\n",
       "      <td>4</td>\n",
       "      <td>45</td>\n",
       "      <td>120</td>\n",
       "      <td>238</td>\n",
       "      <td>180</td>\n",
       "      <td>418</td>\n",
       "    </tr>\n",
       "    <tr>\n",
       "      <th>5</th>\n",
       "      <td>2016-05-15</td>\n",
       "      <td>15</td>\n",
       "      <td>May</td>\n",
       "      <td>2016</td>\n",
       "      <td>47</td>\n",
       "      <td>Adults (35-64)</td>\n",
       "      <td>F</td>\n",
       "      <td>Australia</td>\n",
       "      <td>New South Wales</td>\n",
       "      <td>Accessories</td>\n",
       "      <td>Bike Racks</td>\n",
       "      <td>Hitch Rack - 4-Bike</td>\n",
       "      <td>5</td>\n",
       "      <td>45</td>\n",
       "      <td>120</td>\n",
       "      <td>297</td>\n",
       "      <td>225</td>\n",
       "      <td>522</td>\n",
       "    </tr>\n",
       "  </tbody>\n",
       "</table>\n",
       "</div>"
      ],
      "text/plain": [
       "        Date  Day     Month  Year  Customer_Age       Age_Group  \\\n",
       "0 2013-11-26   26  November  2013            19     Youth (<25)   \n",
       "1 2015-11-26   26  November  2015            19     Youth (<25)   \n",
       "2 2014-03-23   23     March  2014            49  Adults (35-64)   \n",
       "3 2016-03-23   23     March  2016            49  Adults (35-64)   \n",
       "4 2014-05-15   15       May  2014            47  Adults (35-64)   \n",
       "5 2016-05-15   15       May  2016            47  Adults (35-64)   \n",
       "\n",
       "  Customer_Gender    Country             State Product_Category Sub_Category  \\\n",
       "0               M     Canada  British Columbia      Accessories   Bike Racks   \n",
       "1               M     Canada  British Columbia      Accessories   Bike Racks   \n",
       "2               M  Australia   New South Wales      Accessories   Bike Racks   \n",
       "3               M  Australia   New South Wales      Accessories   Bike Racks   \n",
       "4               F  Australia   New South Wales      Accessories   Bike Racks   \n",
       "5               F  Australia   New South Wales      Accessories   Bike Racks   \n",
       "\n",
       "               Product  Order_Quantity  Unit_Cost  Unit_Price  Profit  Cost  \\\n",
       "0  Hitch Rack - 4-Bike               8         45         120     590   360   \n",
       "1  Hitch Rack - 4-Bike               8         45         120     590   360   \n",
       "2  Hitch Rack - 4-Bike              23         45         120    1366  1035   \n",
       "3  Hitch Rack - 4-Bike              20         45         120    1188   900   \n",
       "4  Hitch Rack - 4-Bike               4         45         120     238   180   \n",
       "5  Hitch Rack - 4-Bike               5         45         120     297   225   \n",
       "\n",
       "   Revenue  \n",
       "0      950  \n",
       "1      950  \n",
       "2     2401  \n",
       "3     2088  \n",
       "4      418  \n",
       "5      522  "
      ]
     },
     "execution_count": 23,
     "metadata": {},
     "output_type": "execute_result"
    }
   ],
   "source": [
    "sales.head(6)"
   ]
  },
  {
   "cell_type": "code",
   "execution_count": 24,
   "metadata": {},
   "outputs": [
    {
     "data": {
      "text/plain": [
       "Adults (35-64)          55824\n",
       "Young Adults (25-34)    38654\n",
       "Youth (<25)             17828\n",
       "Seniors (64+)             730\n",
       "Name: Age_Group, dtype: int64"
      ]
     },
     "execution_count": 24,
     "metadata": {},
     "output_type": "execute_result"
    }
   ],
   "source": [
    "sales['Age_Group'].value_counts()"
   ]
  },
  {
   "cell_type": "code",
   "execution_count": 25,
   "metadata": {},
   "outputs": [
    {
     "data": {
      "text/plain": [
       "M    58312\n",
       "F    54724\n",
       "Name: Customer_Gender, dtype: int64"
      ]
     },
     "execution_count": 25,
     "metadata": {},
     "output_type": "execute_result"
    }
   ],
   "source": [
    "sales['Customer_Gender'].value_counts()"
   ]
  },
  {
   "cell_type": "code",
   "execution_count": 26,
   "metadata": {},
   "outputs": [
    {
     "data": {
      "text/plain": [
       "<AxesSubplot:ylabel='Age_Group'>"
      ]
     },
     "execution_count": 26,
     "metadata": {},
     "output_type": "execute_result"
    },
    {
     "data": {
      "image/png": "[encoded data removed]",
      "text/plain": [
       "<Figure size 432x432 with 1 Axes>"
      ]
     },
     "metadata": {},
     "output_type": "display_data"
    }
   ],
   "source": [
    "sales['Age_Group'].value_counts().plot(kind='pie', figsize=(6,6))"
   ]
  },
  {
   "cell_type": "code",
   "execution_count": 31,
   "metadata": {},
   "outputs": [
    {
     "data": {
      "text/plain": [
       "Text(0, 0.5, 'Number of Sales')"
      ]
     },
     "execution_count": 31,
     "metadata": {},
     "output_type": "execute_result"
    },
    {
     "data": {
      "image/png": "[encoded data removed]",
      "text/plain": [
       "<Figure size 1008x432 with 1 Axes>"
      ]
     },
     "metadata": {
      "needs_background": "light"
     },
     "output_type": "display_data"
    }
   ],
   "source": [
    "ax = sales['Age_Group'].value_counts().plot(kind='bar', figsize=(14,6))\n",
    "ax.set_ylabel('Number of Sales')"
   ]
  },
  {
   "cell_type": "code",
   "execution_count": 30,
   "metadata": {},
   "outputs": [
    {
     "data": {
      "text/plain": [
       "Text(0, 0.5, 'Number of Sales')"
      ]
     },
     "execution_count": 30,
     "metadata": {},
     "output_type": "execute_result"
    },
    {
     "data": {
      "image/png": "[encoded data removed]",
      "text/plain": [
       "<Figure size 1008x432 with 1 Axes>"
      ]
     },
     "metadata": {
      "needs_background": "light"
     },
     "output_type": "display_data"
    }
   ],
   "source": [
    "ax = sales['Customer_Gender'].value_counts().plot(kind='bar', figsize=(14,6))\n",
    "ax.set_ylabel('Number of Sales')"
   ]
  },
  {
   "cell_type": "markdown",
   "metadata": {},
   "source": [
    "![green-divider](https://user-images.githubusercontent.com/7065401/52071924-c003ad80-2562-11e9-8297-1c6595f8a7ff.png)\n",
    "\n",
    "## Relationship between the columns?\n",
    "\n",
    "Can we find any significant relationship?"
   ]
  },
  {
   "cell_type": "code",
   "execution_count": 32,
   "metadata": {},
   "outputs": [
    {
     "data": {
      "text/html": [
       "<div>\n",
       "<style scoped>\n",
       "    .dataframe tbody tr th:only-of-type {\n",
       "        vertical-align: middle;\n",
       "    }\n",
       "\n",
       "    .dataframe tbody tr th {\n",
       "        vertical-align: top;\n",
       "    }\n",
       "\n",
       "    .dataframe thead th {\n",
       "        text-align: right;\n",
       "    }\n",
       "</style>\n",
       "<table border=\"1\" class=\"dataframe\">\n",
       "  <thead>\n",
       "    <tr style=\"text-align: right;\">\n",
       "      <th></th>\n",
       "      <th>Day</th>\n",
       "      <th>Year</th>\n",
       "      <th>Customer_Age</th>\n",
       "      <th>Order_Quantity</th>\n",
       "      <th>Unit_Cost</th>\n",
       "      <th>Unit_Price</th>\n",
       "      <th>Profit</th>\n",
       "      <th>Cost</th>\n",
       "      <th>Revenue</th>\n",
       "    </tr>\n",
       "  </thead>\n",
       "  <tbody>\n",
       "    <tr>\n",
       "      <th>Day</th>\n",
       "      <td>1.000000</td>\n",
       "      <td>-0.007635</td>\n",
       "      <td>-0.014296</td>\n",
       "      <td>-0.002412</td>\n",
       "      <td>0.003133</td>\n",
       "      <td>0.003207</td>\n",
       "      <td>0.004623</td>\n",
       "      <td>0.003329</td>\n",
       "      <td>0.003853</td>\n",
       "    </tr>\n",
       "    <tr>\n",
       "      <th>Year</th>\n",
       "      <td>-0.007635</td>\n",
       "      <td>1.000000</td>\n",
       "      <td>0.040994</td>\n",
       "      <td>0.123169</td>\n",
       "      <td>-0.217575</td>\n",
       "      <td>-0.213673</td>\n",
       "      <td>-0.181525</td>\n",
       "      <td>-0.215604</td>\n",
       "      <td>-0.208673</td>\n",
       "    </tr>\n",
       "    <tr>\n",
       "      <th>Customer_Age</th>\n",
       "      <td>-0.014296</td>\n",
       "      <td>0.040994</td>\n",
       "      <td>1.000000</td>\n",
       "      <td>0.026887</td>\n",
       "      <td>-0.021374</td>\n",
       "      <td>-0.020262</td>\n",
       "      <td>0.004319</td>\n",
       "      <td>-0.016013</td>\n",
       "      <td>-0.009326</td>\n",
       "    </tr>\n",
       "    <tr>\n",
       "      <th>Order_Quantity</th>\n",
       "      <td>-0.002412</td>\n",
       "      <td>0.123169</td>\n",
       "      <td>0.026887</td>\n",
       "      <td>1.000000</td>\n",
       "      <td>-0.515835</td>\n",
       "      <td>-0.515925</td>\n",
       "      <td>-0.238863</td>\n",
       "      <td>-0.340382</td>\n",
       "      <td>-0.312895</td>\n",
       "    </tr>\n",
       "    <tr>\n",
       "      <th>Unit_Cost</th>\n",
       "      <td>0.003133</td>\n",
       "      <td>-0.217575</td>\n",
       "      <td>-0.021374</td>\n",
       "      <td>-0.515835</td>\n",
       "      <td>1.000000</td>\n",
       "      <td>0.997894</td>\n",
       "      <td>0.741020</td>\n",
       "      <td>0.829869</td>\n",
       "      <td>0.817865</td>\n",
       "    </tr>\n",
       "    <tr>\n",
       "      <th>Unit_Price</th>\n",
       "      <td>0.003207</td>\n",
       "      <td>-0.213673</td>\n",
       "      <td>-0.020262</td>\n",
       "      <td>-0.515925</td>\n",
       "      <td>0.997894</td>\n",
       "      <td>1.000000</td>\n",
       "      <td>0.749870</td>\n",
       "      <td>0.826301</td>\n",
       "      <td>0.818522</td>\n",
       "    </tr>\n",
       "    <tr>\n",
       "      <th>Profit</th>\n",
       "      <td>0.004623</td>\n",
       "      <td>-0.181525</td>\n",
       "      <td>0.004319</td>\n",
       "      <td>-0.238863</td>\n",
       "      <td>0.741020</td>\n",
       "      <td>0.749870</td>\n",
       "      <td>1.000000</td>\n",
       "      <td>0.902233</td>\n",
       "      <td>0.956572</td>\n",
       "    </tr>\n",
       "    <tr>\n",
       "      <th>Cost</th>\n",
       "      <td>0.003329</td>\n",
       "      <td>-0.215604</td>\n",
       "      <td>-0.016013</td>\n",
       "      <td>-0.340382</td>\n",
       "      <td>0.829869</td>\n",
       "      <td>0.826301</td>\n",
       "      <td>0.902233</td>\n",
       "      <td>1.000000</td>\n",
       "      <td>0.988758</td>\n",
       "    </tr>\n",
       "    <tr>\n",
       "      <th>Revenue</th>\n",
       "      <td>0.003853</td>\n",
       "      <td>-0.208673</td>\n",
       "      <td>-0.009326</td>\n",
       "      <td>-0.312895</td>\n",
       "      <td>0.817865</td>\n",
       "      <td>0.818522</td>\n",
       "      <td>0.956572</td>\n",
       "      <td>0.988758</td>\n",
       "      <td>1.000000</td>\n",
       "    </tr>\n",
       "  </tbody>\n",
       "</table>\n",
       "</div>"
      ],
      "text/plain": [
       "                     Day      Year  Customer_Age  Order_Quantity  Unit_Cost  \\\n",
       "Day             1.000000 -0.007635     -0.014296       -0.002412   0.003133   \n",
       "Year           -0.007635  1.000000      0.040994        0.123169  -0.217575   \n",
       "Customer_Age   -0.014296  0.040994      1.000000        0.026887  -0.021374   \n",
       "Order_Quantity -0.002412  0.123169      0.026887        1.000000  -0.515835   \n",
       "Unit_Cost       0.003133 -0.217575     -0.021374       -0.515835   1.000000   \n",
       "Unit_Price      0.003207 -0.213673     -0.020262       -0.515925   0.997894   \n",
       "Profit          0.004623 -0.181525      0.004319       -0.238863   0.741020   \n",
       "Cost            0.003329 -0.215604     -0.016013       -0.340382   0.829869   \n",
       "Revenue         0.003853 -0.208673     -0.009326       -0.312895   0.817865   \n",
       "\n",
       "                Unit_Price    Profit      Cost   Revenue  \n",
       "Day               0.003207  0.004623  0.003329  0.003853  \n",
       "Year             -0.213673 -0.181525 -0.215604 -0.208673  \n",
       "Customer_Age     -0.020262  0.004319 -0.016013 -0.009326  \n",
       "Order_Quantity   -0.515925 -0.238863 -0.340382 -0.312895  \n",
       "Unit_Cost         0.997894  0.741020  0.829869  0.817865  \n",
       "Unit_Price        1.000000  0.749870  0.826301  0.818522  \n",
       "Profit            0.749870  1.000000  0.902233  0.956572  \n",
       "Cost              0.826301  0.902233  1.000000  0.988758  \n",
       "Revenue           0.818522  0.956572  0.988758  1.000000  "
      ]
     },
     "execution_count": 32,
     "metadata": {},
     "output_type": "execute_result"
    }
   ],
   "source": [
    "corr = sales.corr()\n",
    "\n",
    "corr"
   ]
  },
  {
   "cell_type": "code",
   "execution_count": 33,
   "metadata": {},
   "outputs": [
    {
     "data": {
      "image/png": "[encoded data removed]",
      "text/plain": [
       "<Figure size 576x576 with 1 Axes>"
      ]
     },
     "metadata": {
      "needs_background": "light"
     },
     "output_type": "display_data"
    }
   ],
   "source": [
    "fig = plt.figure(figsize=(8,8))\n",
    "\n",
    "plt.matshow(corr, cmap='RdBu', fignum = fig.number)\n",
    "plt.xticks(range(len(corr.columns)), corr.columns, rotation='vertical');\n",
    "plt.yticks(range(len(corr.columns)), corr.columns);"
   ]
  },
  {
   "cell_type": "code",
   "execution_count": 34,
   "metadata": {},
   "outputs": [
    {
     "data": {
      "text/plain": [
       "<AxesSubplot:xlabel='Customer_Age', ylabel='Revenue'>"
      ]
     },
     "execution_count": 34,
     "metadata": {},
     "output_type": "execute_result"
    },
    {
     "data": {
      "image/png": "[encoded data removed]",
      "text/plain": [
       "<Figure size 432x432 with 1 Axes>"
      ]
     },
     "metadata": {
      "needs_background": "light"
     },
     "output_type": "display_data"
    }
   ],
   "source": [
    "sales.plot(kind='scatter', x='Customer_Age', y='Revenue', figsize=(6,6))"
   ]
  },
  {
   "cell_type": "code",
   "execution_count": 35,
   "metadata": {},
   "outputs": [
    {
     "data": {
      "text/plain": [
       "<AxesSubplot:xlabel='Order_Quantity', ylabel='Revenue'>"
      ]
     },
     "execution_count": 35,
     "metadata": {},
     "output_type": "execute_result"
    },
    {
     "data": {
      "image/png": "[encoded data removed]",
      "text/plain": [
       "<Figure size 432x432 with 1 Axes>"
      ]
     },
     "metadata": {
      "needs_background": "light"
     },
     "output_type": "display_data"
    }
   ],
   "source": [
    "sales.plot(kind='scatter', x='Order_Quantity', y='Revenue', figsize=(6,6))"
   ]
  },
  {
   "cell_type": "code",
   "execution_count": 36,
   "metadata": {},
   "outputs": [
    {
     "data": {
      "text/plain": [
       "Text(0, 0.5, 'Profit')"
      ]
     },
     "execution_count": 36,
     "metadata": {},
     "output_type": "execute_result"
    },
    {
     "data": {
      "image/png": "[encoded data removed]",
      "text/plain": [
       "<Figure size 576x432 with 1 Axes>"
      ]
     },
     "metadata": {
      "needs_background": "light"
     },
     "output_type": "display_data"
    }
   ],
   "source": [
    "ax = sales[['Profit', 'Age_Group']].boxplot(by='Age_Group', figsize=(8,6))\n",
    "ax.set_ylabel('Profit')"
   ]
  },
  {
   "cell_type": "code",
   "execution_count": 39,
   "metadata": {},
   "outputs": [
    {
     "data": {
      "text/plain": [
       "Text(0, 0.5, 'Profit')"
      ]
     },
     "execution_count": 39,
     "metadata": {},
     "output_type": "execute_result"
    },
    {
     "data": {
      "image/png": "[encoded data removed]",
      "text/plain": [
       "<Figure size 288x432 with 1 Axes>"
      ]
     },
     "metadata": {
      "needs_background": "light"
     },
     "output_type": "display_data"
    }
   ],
   "source": [
    "ax = sales[['Profit', 'Customer_Gender']].boxplot(by='Customer_Gender', figsize=(4,6))\n",
    "ax.set_ylabel('Profit')"
   ]
  },
  {
   "cell_type": "code",
   "execution_count": 43,
   "metadata": {},
   "outputs": [
    {
     "data": {
      "text/plain": [
       "Year                 AxesSubplot(0.125,0.536818;0.168478x0.343182)\n",
       "Customer_Age      AxesSubplot(0.327174,0.536818;0.168478x0.343182)\n",
       "Order_Quantity    AxesSubplot(0.529348,0.536818;0.168478x0.343182)\n",
       "Unit_Cost         AxesSubplot(0.731522,0.536818;0.168478x0.343182)\n",
       "Unit_Price              AxesSubplot(0.125,0.125;0.168478x0.343182)\n",
       "Profit               AxesSubplot(0.327174,0.125;0.168478x0.343182)\n",
       "Revenue              AxesSubplot(0.529348,0.125;0.168478x0.343182)\n",
       "dtype: object"
      ]
     },
     "execution_count": 43,
     "metadata": {},
     "output_type": "execute_result"
    },
    {
     "data": {
      "image/png": "[encoded data removed]",
      "text/plain": [
       "<Figure size 1008x576 with 8 Axes>"
      ]
     },
     "metadata": {
      "needs_background": "light"
     },
     "output_type": "display_data"
    }
   ],
   "source": [
    "boxplot_cols = ['Year', 'Customer_Age', 'Order_Quantity', 'Unit_Cost', 'Unit_Price', 'Profit', 'Revenue']\n",
    "\n",
    "sales[boxplot_cols].plot(kind='box', subplots=True, layout=(2,4), figsize=(14,8))"
   ]
  },
  {
   "cell_type": "markdown",
   "metadata": {},
   "source": [
    "![green-divider](https://user-images.githubusercontent.com/7065401/52071924-c003ad80-2562-11e9-8297-1c6595f8a7ff.png)\n",
    "\n",
    "## Column wrangling\n",
    "\n",
    "We can also create new columns or modify existing ones.\n",
    "\n",
    "### Add and calculate a new `Revenue_per_Age` column"
   ]
  },
  {
   "cell_type": "code",
   "execution_count": 44,
   "metadata": {},
   "outputs": [
    {
     "data": {
      "text/plain": [
       "0    50.000000\n",
       "1    50.000000\n",
       "2    49.000000\n",
       "3    42.612245\n",
       "4     8.893617\n",
       "5    11.106383\n",
       "6     8.063830\n",
       "7     4.042553\n",
       "8    59.600000\n",
       "9    56.885714\n",
       "Name: Revenue_per_Age, dtype: float64"
      ]
     },
     "execution_count": 44,
     "metadata": {},
     "output_type": "execute_result"
    }
   ],
   "source": [
    "sales['Revenue_per_Age'] = sales['Revenue'] / sales['Customer_Age']\n",
    "\n",
    "sales['Revenue_per_Age'].head(10)"
   ]
  },
  {
   "cell_type": "code",
   "execution_count": 45,
   "metadata": {},
   "outputs": [
    {
     "data": {
      "text/plain": [
       "<AxesSubplot:ylabel='Density'>"
      ]
     },
     "execution_count": 45,
     "metadata": {},
     "output_type": "execute_result"
    },
    {
     "data": {
      "image/png": "[encoded data removed]",
      "text/plain": [
       "<Figure size 1008x432 with 1 Axes>"
      ]
     },
     "metadata": {
      "needs_background": "light"
     },
     "output_type": "display_data"
    }
   ],
   "source": [
    "sales['Revenue_per_Age'].plot(kind='density', figsize=(14,6))"
   ]
  },
  {
   "cell_type": "code",
   "execution_count": 46,
   "metadata": {},
   "outputs": [
    {
     "data": {
      "text/plain": [
       "<AxesSubplot:ylabel='Frequency'>"
      ]
     },
     "execution_count": 46,
     "metadata": {},
     "output_type": "execute_result"
    },
    {
     "data": {
      "image/png": "[encoded data removed]",
      "text/plain": [
       "<Figure size 1008x432 with 1 Axes>"
      ]
     },
     "metadata": {
      "needs_background": "light"
     },
     "output_type": "display_data"
    }
   ],
   "source": [
    "sales['Revenue_per_Age'].plot(kind='hist', figsize=(14,6))"
   ]
  },
  {
   "cell_type": "markdown",
   "metadata": {},
   "source": [
    "### Add and calculate a new `Calculated_Cost` column\n",
    "\n",
    "Use this formula:\n",
    "\n",
    "$$Calculated\\_Cost = Order\\_Quantity * Unit\\_Cost$$"
   ]
  },
  {
   "cell_type": "code",
   "execution_count": 48,
   "metadata": {},
   "outputs": [
    {
     "data": {
      "text/plain": [
       "0     360\n",
       "1     360\n",
       "2    1035\n",
       "3     900\n",
       "4     180\n",
       "5     225\n",
       "6     180\n",
       "7      90\n",
       "8     990\n",
       "9     945\n",
       "Name: Calculated_Cost, dtype: int64"
      ]
     },
     "execution_count": 48,
     "metadata": {},
     "output_type": "execute_result"
    }
   ],
   "source": [
    "sales['Calculated_Cost'] = sales['Order_Quantity'] * sales['Unit_Cost']\n",
    "\n",
    "sales['Calculated_Cost'].head(10)"
   ]
  },
  {
   "cell_type": "code",
   "execution_count": 49,
   "metadata": {},
   "outputs": [
    {
     "data": {
      "text/plain": [
       "0"
      ]
     },
     "execution_count": 49,
     "metadata": {},
     "output_type": "execute_result"
    }
   ],
   "source": [
    "(sales['Calculated_Cost'] != sales['Cost']).sum()"
   ]
  },
  {
   "cell_type": "markdown",
   "metadata": {},
   "source": [
    "We can see the relationship between `Cost` and `Profit` using a scatter plot:"
   ]
  },
  {
   "cell_type": "code",
   "execution_count": 50,
   "metadata": {},
   "outputs": [
    {
     "data": {
      "text/plain": [
       "<AxesSubplot:xlabel='Calculated_Cost', ylabel='Profit'>"
      ]
     },
     "execution_count": 50,
     "metadata": {},
     "output_type": "execute_result"
    },
    {
     "data": {
      "image/png": "[encoded data removed]",
      "text/plain": [
       "<Figure size 432x432 with 1 Axes>"
      ]
     },
     "metadata": {
      "needs_background": "light"
     },
     "output_type": "display_data"
    }
   ],
   "source": [
    "sales.plot(kind='scatter', x='Calculated_Cost', y='Profit', figsize=(6,6))"
   ]
  },
  {
   "cell_type": "markdown",
   "metadata": {},
   "source": [
    "### Add and calculate a new `Calculated_Revenue` column\n",
    "\n",
    "Use this formula\n",
    "\n",
    "$$ Calculated\\_Revenue = Cost + Profit $$"
   ]
  },
  {
   "cell_type": "code",
   "execution_count": 51,
   "metadata": {},
   "outputs": [
    {
     "data": {
      "text/plain": [
       "0     950\n",
       "1     950\n",
       "2    2401\n",
       "3    2088\n",
       "4     418\n",
       "5     522\n",
       "6     379\n",
       "7     190\n",
       "8    2086\n",
       "9    1991\n",
       "Name: Calculated_Revenue, dtype: int64"
      ]
     },
     "execution_count": 51,
     "metadata": {},
     "output_type": "execute_result"
    }
   ],
   "source": [
    "sales['Calculated_Revenue'] = sales['Cost'] + sales['Profit']\n",
    "\n",
    "sales['Calculated_Revenue'].head(10)"
   ]
  },
  {
   "cell_type": "code",
   "execution_count": 52,
   "metadata": {},
   "outputs": [
    {
     "data": {
      "text/plain": [
       "0"
      ]
     },
     "execution_count": 52,
     "metadata": {},
     "output_type": "execute_result"
    }
   ],
   "source": [
    "(sales['Calculated_Revenue'] != sales['Revenue']).sum()"
   ]
  },
  {
   "cell_type": "code",
   "execution_count": 33,
   "metadata": {},
   "outputs": [
    {
     "data": {
      "text/html": [
       "<div>\n",
       "<style scoped>\n",
       "    .dataframe tbody tr th:only-of-type {\n",
       "        vertical-align: middle;\n",
       "    }\n",
       "\n",
       "    .dataframe tbody tr th {\n",
       "        vertical-align: top;\n",
       "    }\n",
       "\n",
       "    .dataframe thead th {\n",
       "        text-align: right;\n",
       "    }\n",
       "</style>\n",
       "<table border=\"1\" class=\"dataframe\">\n",
       "  <thead>\n",
       "    <tr style=\"text-align: right;\">\n",
       "      <th></th>\n",
       "      <th>Date</th>\n",
       "      <th>Day</th>\n",
       "      <th>Month</th>\n",
       "      <th>Year</th>\n",
       "      <th>Customer_Age</th>\n",
       "      <th>Age_Group</th>\n",
       "      <th>Customer_Gender</th>\n",
       "      <th>Country</th>\n",
       "      <th>State</th>\n",
       "      <th>Product_Category</th>\n",
       "      <th>...</th>\n",
       "      <th>Product</th>\n",
       "      <th>Order_Quantity</th>\n",
       "      <th>Unit_Cost</th>\n",
       "      <th>Unit_Price</th>\n",
       "      <th>Profit</th>\n",
       "      <th>Cost</th>\n",
       "      <th>Revenue</th>\n",
       "      <th>Revenue_per_Age</th>\n",
       "      <th>Calculated_Cost</th>\n",
       "      <th>Calculated_Revenue</th>\n",
       "    </tr>\n",
       "  </thead>\n",
       "  <tbody>\n",
       "    <tr>\n",
       "      <th>0</th>\n",
       "      <td>2013-11-26</td>\n",
       "      <td>26</td>\n",
       "      <td>November</td>\n",
       "      <td>2013</td>\n",
       "      <td>19</td>\n",
       "      <td>Youth (&lt;25)</td>\n",
       "      <td>M</td>\n",
       "      <td>Canada</td>\n",
       "      <td>British Columbia</td>\n",
       "      <td>Accessories</td>\n",
       "      <td>...</td>\n",
       "      <td>Hitch Rack - 4-Bike</td>\n",
       "      <td>8</td>\n",
       "      <td>45</td>\n",
       "      <td>120</td>\n",
       "      <td>590</td>\n",
       "      <td>360</td>\n",
       "      <td>950</td>\n",
       "      <td>50.000000</td>\n",
       "      <td>360</td>\n",
       "      <td>950</td>\n",
       "    </tr>\n",
       "    <tr>\n",
       "      <th>1</th>\n",
       "      <td>2015-11-26</td>\n",
       "      <td>26</td>\n",
       "      <td>November</td>\n",
       "      <td>2015</td>\n",
       "      <td>19</td>\n",
       "      <td>Youth (&lt;25)</td>\n",
       "      <td>M</td>\n",
       "      <td>Canada</td>\n",
       "      <td>British Columbia</td>\n",
       "      <td>Accessories</td>\n",
       "      <td>...</td>\n",
       "      <td>Hitch Rack - 4-Bike</td>\n",
       "      <td>8</td>\n",
       "      <td>45</td>\n",
       "      <td>120</td>\n",
       "      <td>590</td>\n",
       "      <td>360</td>\n",
       "      <td>950</td>\n",
       "      <td>50.000000</td>\n",
       "      <td>360</td>\n",
       "      <td>950</td>\n",
       "    </tr>\n",
       "    <tr>\n",
       "      <th>2</th>\n",
       "      <td>2014-03-23</td>\n",
       "      <td>23</td>\n",
       "      <td>March</td>\n",
       "      <td>2014</td>\n",
       "      <td>49</td>\n",
       "      <td>Adults (35-64)</td>\n",
       "      <td>M</td>\n",
       "      <td>Australia</td>\n",
       "      <td>New South Wales</td>\n",
       "      <td>Accessories</td>\n",
       "      <td>...</td>\n",
       "      <td>Hitch Rack - 4-Bike</td>\n",
       "      <td>23</td>\n",
       "      <td>45</td>\n",
       "      <td>120</td>\n",
       "      <td>1366</td>\n",
       "      <td>1035</td>\n",
       "      <td>2401</td>\n",
       "      <td>49.000000</td>\n",
       "      <td>1035</td>\n",
       "      <td>2401</td>\n",
       "    </tr>\n",
       "    <tr>\n",
       "      <th>3</th>\n",
       "      <td>2016-03-23</td>\n",
       "      <td>23</td>\n",
       "      <td>March</td>\n",
       "      <td>2016</td>\n",
       "      <td>49</td>\n",
       "      <td>Adults (35-64)</td>\n",
       "      <td>M</td>\n",
       "      <td>Australia</td>\n",
       "      <td>New South Wales</td>\n",
       "      <td>Accessories</td>\n",
       "      <td>...</td>\n",
       "      <td>Hitch Rack - 4-Bike</td>\n",
       "      <td>20</td>\n",
       "      <td>45</td>\n",
       "      <td>120</td>\n",
       "      <td>1188</td>\n",
       "      <td>900</td>\n",
       "      <td>2088</td>\n",
       "      <td>42.612245</td>\n",
       "      <td>900</td>\n",
       "      <td>2088</td>\n",
       "    </tr>\n",
       "    <tr>\n",
       "      <th>4</th>\n",
       "      <td>2014-05-15</td>\n",
       "      <td>15</td>\n",
       "      <td>May</td>\n",
       "      <td>2014</td>\n",
       "      <td>47</td>\n",
       "      <td>Adults (35-64)</td>\n",
       "      <td>F</td>\n",
       "      <td>Australia</td>\n",
       "      <td>New South Wales</td>\n",
       "      <td>Accessories</td>\n",
       "      <td>...</td>\n",
       "      <td>Hitch Rack - 4-Bike</td>\n",
       "      <td>4</td>\n",
       "      <td>45</td>\n",
       "      <td>120</td>\n",
       "      <td>238</td>\n",
       "      <td>180</td>\n",
       "      <td>418</td>\n",
       "      <td>8.893617</td>\n",
       "      <td>180</td>\n",
       "      <td>418</td>\n",
       "    </tr>\n",
       "  </tbody>\n",
       "</table>\n",
       "<p>5 rows × 21 columns</p>\n",
       "</div>"
      ],
      "text/plain": [
       "        Date  Day     Month  Year  Customer_Age       Age_Group  \\\n",
       "0 2013-11-26   26  November  2013            19     Youth (<25)   \n",
       "1 2015-11-26   26  November  2015            19     Youth (<25)   \n",
       "2 2014-03-23   23     March  2014            49  Adults (35-64)   \n",
       "3 2016-03-23   23     March  2016            49  Adults (35-64)   \n",
       "4 2014-05-15   15       May  2014            47  Adults (35-64)   \n",
       "\n",
       "  Customer_Gender    Country             State Product_Category  ...  \\\n",
       "0               M     Canada  British Columbia      Accessories  ...   \n",
       "1               M     Canada  British Columbia      Accessories  ...   \n",
       "2               M  Australia   New South Wales      Accessories  ...   \n",
       "3               M  Australia   New South Wales      Accessories  ...   \n",
       "4               F  Australia   New South Wales      Accessories  ...   \n",
       "\n",
       "               Product Order_Quantity  Unit_Cost  Unit_Price  Profit  Cost  \\\n",
       "0  Hitch Rack - 4-Bike              8         45         120     590   360   \n",
       "1  Hitch Rack - 4-Bike              8         45         120     590   360   \n",
       "2  Hitch Rack - 4-Bike             23         45         120    1366  1035   \n",
       "3  Hitch Rack - 4-Bike             20         45         120    1188   900   \n",
       "4  Hitch Rack - 4-Bike              4         45         120     238   180   \n",
       "\n",
       "   Revenue  Revenue_per_Age  Calculated_Cost  Calculated_Revenue  \n",
       "0      950        50.000000              360                 950  \n",
       "1      950        50.000000              360                 950  \n",
       "2     2401        49.000000             1035                2401  \n",
       "3     2088        42.612245              900                2088  \n",
       "4      418         8.893617              180                 418  \n",
       "\n",
       "[5 rows x 21 columns]"
      ]
     },
     "execution_count": 33,
     "metadata": {},
     "output_type": "execute_result"
    }
   ],
   "source": [
    "sales.head()"
   ]
  },
  {
   "cell_type": "code",
   "execution_count": 54,
   "metadata": {},
   "outputs": [
    {
     "data": {
      "text/plain": [
       "<AxesSubplot:ylabel='Frequency'>"
      ]
     },
     "execution_count": 54,
     "metadata": {},
     "output_type": "execute_result"
    },
    {
     "data": {
      "image/png": "[encoded data removed]",
      "text/plain": [
       "<Figure size 1008x432 with 1 Axes>"
      ]
     },
     "metadata": {
      "needs_background": "light"
     },
     "output_type": "display_data"
    }
   ],
   "source": [
    "sales['Revenue'].plot(kind='hist', bins=30, figsize=(14,6))"
   ]
  },
  {
   "cell_type": "markdown",
   "metadata": {},
   "source": [
    "### Modify all `Unit_Price` values adding 3% tax to them"
   ]
  },
  {
   "cell_type": "code",
   "execution_count": 55,
   "metadata": {},
   "outputs": [
    {
     "data": {
      "text/plain": [
       "0    120\n",
       "1    120\n",
       "2    120\n",
       "3    120\n",
       "4    120\n",
       "5    120\n",
       "6    120\n",
       "7    120\n",
       "Name: Unit_Price, dtype: int64"
      ]
     },
     "execution_count": 55,
     "metadata": {},
     "output_type": "execute_result"
    }
   ],
   "source": [
    "sales['Unit_Price'].head(8)"
   ]
  },
  {
   "cell_type": "code",
   "execution_count": 56,
   "metadata": {},
   "outputs": [],
   "source": [
    "#sales['Unit_Price'] = sales['Unit_Price'] * 1.03\n",
    "\n",
    "sales['Unit_Price'] *= 1.03"
   ]
  },
  {
   "cell_type": "code",
   "execution_count": 57,
   "metadata": {},
   "outputs": [
    {
     "data": {
      "text/plain": [
       "0    123.6\n",
       "1    123.6\n",
       "2    123.6\n",
       "3    123.6\n",
       "4    123.6\n",
       "Name: Unit_Price, dtype: float64"
      ]
     },
     "execution_count": 57,
     "metadata": {},
     "output_type": "execute_result"
    }
   ],
   "source": [
    "sales['Unit_Price'].head()"
   ]
  },
  {
   "cell_type": "markdown",
   "metadata": {},
   "source": [
    "![green-divider](https://user-images.githubusercontent.com/7065401/52071924-c003ad80-2562-11e9-8297-1c6595f8a7ff.png)\n",
    "\n",
    "## Selection & Indexing:"
   ]
  },
  {
   "cell_type": "markdown",
   "metadata": {},
   "source": [
    "### Get all the sales made in the state of `Kentucky`"
   ]
  },
  {
   "cell_type": "code",
   "execution_count": 58,
   "metadata": {},
   "outputs": [
    {
     "data": {
      "text/html": [
       "<div>\n",
       "<style scoped>\n",
       "    .dataframe tbody tr th:only-of-type {\n",
       "        vertical-align: middle;\n",
       "    }\n",
       "\n",
       "    .dataframe tbody tr th {\n",
       "        vertical-align: top;\n",
       "    }\n",
       "\n",
       "    .dataframe thead th {\n",
       "        text-align: right;\n",
       "    }\n",
       "</style>\n",
       "<table border=\"1\" class=\"dataframe\">\n",
       "  <thead>\n",
       "    <tr style=\"text-align: right;\">\n",
       "      <th></th>\n",
       "      <th>Date</th>\n",
       "      <th>Day</th>\n",
       "      <th>Month</th>\n",
       "      <th>Year</th>\n",
       "      <th>Customer_Age</th>\n",
       "      <th>Age_Group</th>\n",
       "      <th>Customer_Gender</th>\n",
       "      <th>Country</th>\n",
       "      <th>State</th>\n",
       "      <th>Product_Category</th>\n",
       "      <th>...</th>\n",
       "      <th>Product</th>\n",
       "      <th>Order_Quantity</th>\n",
       "      <th>Unit_Cost</th>\n",
       "      <th>Unit_Price</th>\n",
       "      <th>Profit</th>\n",
       "      <th>Cost</th>\n",
       "      <th>Revenue</th>\n",
       "      <th>Revenue_per_Age</th>\n",
       "      <th>Calculated_Cost</th>\n",
       "      <th>Calculated_Revenue</th>\n",
       "    </tr>\n",
       "  </thead>\n",
       "  <tbody>\n",
       "    <tr>\n",
       "      <th>156</th>\n",
       "      <td>2013-11-04</td>\n",
       "      <td>4</td>\n",
       "      <td>November</td>\n",
       "      <td>2013</td>\n",
       "      <td>40</td>\n",
       "      <td>Adults (35-64)</td>\n",
       "      <td>M</td>\n",
       "      <td>United States</td>\n",
       "      <td>Kentucky</td>\n",
       "      <td>Accessories</td>\n",
       "      <td>...</td>\n",
       "      <td>Hitch Rack - 4-Bike</td>\n",
       "      <td>1</td>\n",
       "      <td>45</td>\n",
       "      <td>123.60</td>\n",
       "      <td>63</td>\n",
       "      <td>45</td>\n",
       "      <td>108</td>\n",
       "      <td>2.700</td>\n",
       "      <td>45</td>\n",
       "      <td>108</td>\n",
       "    </tr>\n",
       "    <tr>\n",
       "      <th>157</th>\n",
       "      <td>2015-11-04</td>\n",
       "      <td>4</td>\n",
       "      <td>November</td>\n",
       "      <td>2015</td>\n",
       "      <td>40</td>\n",
       "      <td>Adults (35-64)</td>\n",
       "      <td>M</td>\n",
       "      <td>United States</td>\n",
       "      <td>Kentucky</td>\n",
       "      <td>Accessories</td>\n",
       "      <td>...</td>\n",
       "      <td>Hitch Rack - 4-Bike</td>\n",
       "      <td>1</td>\n",
       "      <td>45</td>\n",
       "      <td>123.60</td>\n",
       "      <td>63</td>\n",
       "      <td>45</td>\n",
       "      <td>108</td>\n",
       "      <td>2.700</td>\n",
       "      <td>45</td>\n",
       "      <td>108</td>\n",
       "    </tr>\n",
       "    <tr>\n",
       "      <th>23826</th>\n",
       "      <td>2014-04-16</td>\n",
       "      <td>16</td>\n",
       "      <td>April</td>\n",
       "      <td>2014</td>\n",
       "      <td>40</td>\n",
       "      <td>Adults (35-64)</td>\n",
       "      <td>M</td>\n",
       "      <td>United States</td>\n",
       "      <td>Kentucky</td>\n",
       "      <td>Accessories</td>\n",
       "      <td>...</td>\n",
       "      <td>Fender Set - Mountain</td>\n",
       "      <td>12</td>\n",
       "      <td>8</td>\n",
       "      <td>22.66</td>\n",
       "      <td>142</td>\n",
       "      <td>96</td>\n",
       "      <td>238</td>\n",
       "      <td>5.950</td>\n",
       "      <td>96</td>\n",
       "      <td>238</td>\n",
       "    </tr>\n",
       "    <tr>\n",
       "      <th>23827</th>\n",
       "      <td>2016-04-16</td>\n",
       "      <td>16</td>\n",
       "      <td>April</td>\n",
       "      <td>2016</td>\n",
       "      <td>40</td>\n",
       "      <td>Adults (35-64)</td>\n",
       "      <td>M</td>\n",
       "      <td>United States</td>\n",
       "      <td>Kentucky</td>\n",
       "      <td>Accessories</td>\n",
       "      <td>...</td>\n",
       "      <td>Fender Set - Mountain</td>\n",
       "      <td>14</td>\n",
       "      <td>8</td>\n",
       "      <td>22.66</td>\n",
       "      <td>165</td>\n",
       "      <td>112</td>\n",
       "      <td>277</td>\n",
       "      <td>6.925</td>\n",
       "      <td>112</td>\n",
       "      <td>277</td>\n",
       "    </tr>\n",
       "    <tr>\n",
       "      <th>31446</th>\n",
       "      <td>2014-04-16</td>\n",
       "      <td>16</td>\n",
       "      <td>April</td>\n",
       "      <td>2014</td>\n",
       "      <td>40</td>\n",
       "      <td>Adults (35-64)</td>\n",
       "      <td>M</td>\n",
       "      <td>United States</td>\n",
       "      <td>Kentucky</td>\n",
       "      <td>Accessories</td>\n",
       "      <td>...</td>\n",
       "      <td>Sport-100 Helmet, Blue</td>\n",
       "      <td>29</td>\n",
       "      <td>13</td>\n",
       "      <td>36.05</td>\n",
       "      <td>537</td>\n",
       "      <td>377</td>\n",
       "      <td>914</td>\n",
       "      <td>22.850</td>\n",
       "      <td>377</td>\n",
       "      <td>914</td>\n",
       "    </tr>\n",
       "    <tr>\n",
       "      <th>31447</th>\n",
       "      <td>2016-04-16</td>\n",
       "      <td>16</td>\n",
       "      <td>April</td>\n",
       "      <td>2016</td>\n",
       "      <td>40</td>\n",
       "      <td>Adults (35-64)</td>\n",
       "      <td>M</td>\n",
       "      <td>United States</td>\n",
       "      <td>Kentucky</td>\n",
       "      <td>Accessories</td>\n",
       "      <td>...</td>\n",
       "      <td>Sport-100 Helmet, Blue</td>\n",
       "      <td>31</td>\n",
       "      <td>13</td>\n",
       "      <td>36.05</td>\n",
       "      <td>574</td>\n",
       "      <td>403</td>\n",
       "      <td>977</td>\n",
       "      <td>24.425</td>\n",
       "      <td>403</td>\n",
       "      <td>977</td>\n",
       "    </tr>\n",
       "    <tr>\n",
       "      <th>79670</th>\n",
       "      <td>2014-04-16</td>\n",
       "      <td>16</td>\n",
       "      <td>April</td>\n",
       "      <td>2014</td>\n",
       "      <td>40</td>\n",
       "      <td>Adults (35-64)</td>\n",
       "      <td>M</td>\n",
       "      <td>United States</td>\n",
       "      <td>Kentucky</td>\n",
       "      <td>Accessories</td>\n",
       "      <td>...</td>\n",
       "      <td>ML Mountain Tire</td>\n",
       "      <td>2</td>\n",
       "      <td>11</td>\n",
       "      <td>30.90</td>\n",
       "      <td>32</td>\n",
       "      <td>22</td>\n",
       "      <td>54</td>\n",
       "      <td>1.350</td>\n",
       "      <td>22</td>\n",
       "      <td>54</td>\n",
       "    </tr>\n",
       "    <tr>\n",
       "      <th>79671</th>\n",
       "      <td>2014-04-16</td>\n",
       "      <td>16</td>\n",
       "      <td>April</td>\n",
       "      <td>2014</td>\n",
       "      <td>40</td>\n",
       "      <td>Adults (35-64)</td>\n",
       "      <td>M</td>\n",
       "      <td>United States</td>\n",
       "      <td>Kentucky</td>\n",
       "      <td>Accessories</td>\n",
       "      <td>...</td>\n",
       "      <td>ML Mountain Tire</td>\n",
       "      <td>21</td>\n",
       "      <td>11</td>\n",
       "      <td>30.90</td>\n",
       "      <td>336</td>\n",
       "      <td>231</td>\n",
       "      <td>567</td>\n",
       "      <td>14.175</td>\n",
       "      <td>231</td>\n",
       "      <td>567</td>\n",
       "    </tr>\n",
       "    <tr>\n",
       "      <th>79672</th>\n",
       "      <td>2016-04-16</td>\n",
       "      <td>16</td>\n",
       "      <td>April</td>\n",
       "      <td>2016</td>\n",
       "      <td>40</td>\n",
       "      <td>Adults (35-64)</td>\n",
       "      <td>M</td>\n",
       "      <td>United States</td>\n",
       "      <td>Kentucky</td>\n",
       "      <td>Accessories</td>\n",
       "      <td>...</td>\n",
       "      <td>ML Mountain Tire</td>\n",
       "      <td>1</td>\n",
       "      <td>11</td>\n",
       "      <td>30.90</td>\n",
       "      <td>16</td>\n",
       "      <td>11</td>\n",
       "      <td>27</td>\n",
       "      <td>0.675</td>\n",
       "      <td>11</td>\n",
       "      <td>27</td>\n",
       "    </tr>\n",
       "    <tr>\n",
       "      <th>79673</th>\n",
       "      <td>2016-04-16</td>\n",
       "      <td>16</td>\n",
       "      <td>April</td>\n",
       "      <td>2016</td>\n",
       "      <td>40</td>\n",
       "      <td>Adults (35-64)</td>\n",
       "      <td>M</td>\n",
       "      <td>United States</td>\n",
       "      <td>Kentucky</td>\n",
       "      <td>Accessories</td>\n",
       "      <td>...</td>\n",
       "      <td>ML Mountain Tire</td>\n",
       "      <td>18</td>\n",
       "      <td>11</td>\n",
       "      <td>30.90</td>\n",
       "      <td>288</td>\n",
       "      <td>198</td>\n",
       "      <td>486</td>\n",
       "      <td>12.150</td>\n",
       "      <td>198</td>\n",
       "      <td>486</td>\n",
       "    </tr>\n",
       "  </tbody>\n",
       "</table>\n",
       "<p>10 rows × 21 columns</p>\n",
       "</div>"
      ],
      "text/plain": [
       "            Date  Day     Month  Year  Customer_Age       Age_Group  \\\n",
       "156   2013-11-04    4  November  2013            40  Adults (35-64)   \n",
       "157   2015-11-04    4  November  2015            40  Adults (35-64)   \n",
       "23826 2014-04-16   16     April  2014            40  Adults (35-64)   \n",
       "23827 2016-04-16   16     April  2016            40  Adults (35-64)   \n",
       "31446 2014-04-16   16     April  2014            40  Adults (35-64)   \n",
       "31447 2016-04-16   16     April  2016            40  Adults (35-64)   \n",
       "79670 2014-04-16   16     April  2014            40  Adults (35-64)   \n",
       "79671 2014-04-16   16     April  2014            40  Adults (35-64)   \n",
       "79672 2016-04-16   16     April  2016            40  Adults (35-64)   \n",
       "79673 2016-04-16   16     April  2016            40  Adults (35-64)   \n",
       "\n",
       "      Customer_Gender        Country     State Product_Category  ...  \\\n",
       "156                 M  United States  Kentucky      Accessories  ...   \n",
       "157                 M  United States  Kentucky      Accessories  ...   \n",
       "23826               M  United States  Kentucky      Accessories  ...   \n",
       "23827               M  United States  Kentucky      Accessories  ...   \n",
       "31446               M  United States  Kentucky      Accessories  ...   \n",
       "31447               M  United States  Kentucky      Accessories  ...   \n",
       "79670               M  United States  Kentucky      Accessories  ...   \n",
       "79671               M  United States  Kentucky      Accessories  ...   \n",
       "79672               M  United States  Kentucky      Accessories  ...   \n",
       "79673               M  United States  Kentucky      Accessories  ...   \n",
       "\n",
       "                      Product Order_Quantity  Unit_Cost  Unit_Price  Profit  \\\n",
       "156       Hitch Rack - 4-Bike              1         45      123.60      63   \n",
       "157       Hitch Rack - 4-Bike              1         45      123.60      63   \n",
       "23826   Fender Set - Mountain             12          8       22.66     142   \n",
       "23827   Fender Set - Mountain             14          8       22.66     165   \n",
       "31446  Sport-100 Helmet, Blue             29         13       36.05     537   \n",
       "31447  Sport-100 Helmet, Blue             31         13       36.05     574   \n",
       "79670        ML Mountain Tire              2         11       30.90      32   \n",
       "79671        ML Mountain Tire             21         11       30.90     336   \n",
       "79672        ML Mountain Tire              1         11       30.90      16   \n",
       "79673        ML Mountain Tire             18         11       30.90     288   \n",
       "\n",
       "       Cost  Revenue  Revenue_per_Age  Calculated_Cost  Calculated_Revenue  \n",
       "156      45      108            2.700               45                 108  \n",
       "157      45      108            2.700               45                 108  \n",
       "23826    96      238            5.950               96                 238  \n",
       "23827   112      277            6.925              112                 277  \n",
       "31446   377      914           22.850              377                 914  \n",
       "31447   403      977           24.425              403                 977  \n",
       "79670    22       54            1.350               22                  54  \n",
       "79671   231      567           14.175              231                 567  \n",
       "79672    11       27            0.675               11                  27  \n",
       "79673   198      486           12.150              198                 486  \n",
       "\n",
       "[10 rows x 21 columns]"
      ]
     },
     "execution_count": 58,
     "metadata": {},
     "output_type": "execute_result"
    }
   ],
   "source": [
    "sales.loc[sales['State'] == 'Kentucky']"
   ]
  },
  {
   "cell_type": "markdown",
   "metadata": {},
   "source": [
    "### Get the mean revenue of the `Adults (35-64)` sales group"
   ]
  },
  {
   "cell_type": "code",
   "execution_count": 59,
   "metadata": {},
   "outputs": [
    {
     "data": {
      "text/plain": [
       "762.8287654055604"
      ]
     },
     "execution_count": 59,
     "metadata": {},
     "output_type": "execute_result"
    }
   ],
   "source": [
    "sales.loc[sales['Age_Group'] == 'Adults (35-64)', 'Revenue'].mean()"
   ]
  },
  {
   "cell_type": "markdown",
   "metadata": {},
   "source": [
    "### How many records belong to Age Group `Youth (<25)` or `Adults (35-64)`?"
   ]
  },
  {
   "cell_type": "code",
   "execution_count": 60,
   "metadata": {},
   "outputs": [
    {
     "data": {
      "text/plain": [
       "73652"
      ]
     },
     "execution_count": 60,
     "metadata": {},
     "output_type": "execute_result"
    }
   ],
   "source": [
    "sales.loc[(sales['Age_Group'] == 'Youth (<25)') | (sales['Age_Group'] == 'Adults (35-64)')].shape[0]"
   ]
  },
  {
   "cell_type": "markdown",
   "metadata": {},
   "source": [
    "### Get the mean revenue of the sales group `Adults (35-64)` in `United States`"
   ]
  },
  {
   "cell_type": "code",
   "execution_count": 61,
   "metadata": {},
   "outputs": [
    {
     "data": {
      "text/plain": [
       "726.7260473588342"
      ]
     },
     "execution_count": 61,
     "metadata": {},
     "output_type": "execute_result"
    }
   ],
   "source": [
    "sales.loc[(sales['Age_Group'] == 'Adults (35-64)') & (sales['Country'] == 'United States'), \n",
    "          'Revenue'].mean()"
   ]
  },
  {
   "cell_type": "markdown",
   "metadata": {},
   "source": [
    "### Increase the revenue by 10% to every sale made in France"
   ]
  },
  {
   "cell_type": "code",
   "execution_count": 62,
   "metadata": {},
   "outputs": [
    {
     "data": {
      "text/plain": [
       "50     787\n",
       "51     787\n",
       "52    2957\n",
       "53    2851\n",
       "60     626\n",
       "Name: Revenue, dtype: int64"
      ]
     },
     "execution_count": 62,
     "metadata": {},
     "output_type": "execute_result"
    }
   ],
   "source": [
    "sales.loc[sales['Country'] == 'France', 'Revenue'].head()"
   ]
  },
  {
   "cell_type": "code",
   "execution_count": 63,
   "metadata": {},
   "outputs": [],
   "source": [
    "#sales.loc[sales['Country'] == 'France', 'Revenue'] = sales.loc[sales['Country'] == 'France', 'Revenue'] * 1.1\n",
    "\n",
    "sales.loc[sales['Country'] == 'France', 'Revenue'] *= 1.1"
   ]
  },
  {
   "cell_type": "code",
   "execution_count": 64,
   "metadata": {},
   "outputs": [
    {
     "data": {
      "text/plain": [
       "50     865.7\n",
       "51     865.7\n",
       "52    3252.7\n",
       "53    3136.1\n",
       "60     688.6\n",
       "Name: Revenue, dtype: float64"
      ]
     },
     "execution_count": 64,
     "metadata": {},
     "output_type": "execute_result"
    }
   ],
   "source": [
    "sales.loc[sales['Country'] == 'France', 'Revenue'].head()"
   ]
  },
  {
   "cell_type": "markdown",
   "metadata": {},
   "source": [
    "![purple-divider](https://user-images.githubusercontent.com/7065401/52071927-c1cd7100-2562-11e9-908a-dde91ba14e59.png)"
   ]
  }
 ],
 "metadata": {
  "kernelspec": {
   "display_name": "Python 3",
   "language": "python",
   "name": "python3"
  },
  "language_info": {
   "codemirror_mode": {
    "name": "ipython",
    "version": 3
   },
   "file_extension": ".py",
   "mimetype": "text/x-python",
   "name": "python",
   "nbconvert_exporter": "python",
   "pygments_lexer": "ipython3",
   "version": "3.8.3-final"
  }
 },
 "nbformat": 4,
 "nbformat_minor": 4
}