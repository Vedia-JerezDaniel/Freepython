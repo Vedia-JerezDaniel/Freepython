{
 "metadata": {
  "language_info": {
   "codemirror_mode": {
    "name": "ipython",
    "version": 3
   },
   "file_extension": ".py",
   "mimetype": "text/x-python",
   "name": "python",
   "nbconvert_exporter": "python",
   "pygments_lexer": "ipython3",
   "version": "3.8.5-final"
  },
  "orig_nbformat": 2,
  "kernelspec": {
   "name": "python38564bitbase2e2f0dae54b8424eb8c34441d12cf734",
   "display_name": "Python 3.8.5 64-bit ('base')"
  }
 },
 "nbformat": 4,
 "nbformat_minor": 2,
 "cells": [
  {
   "cell_type": "code",
   "execution_count": 1,
   "metadata": {},
   "outputs": [],
   "source": [
    "import pandas as pd"
   ]
  },
  {
   "cell_type": "code",
   "execution_count": 2,
   "metadata": {
    "tags": []
   },
   "outputs": [
    {
     "output_type": "stream",
     "name": "stdout",
     "text": "&lt;_io.TextIOWrapper name=&#39;data/btc-market-price.csv&#39; mode=&#39;r&#39; encoding=&#39;UTF-8&#39;&gt;\n"
    }
   ],
   "source": [
    "with open('data/btc-market-price.csv', 'r') as fp:\n",
    "    print(fp)"
   ]
  },
  {
   "cell_type": "code",
   "execution_count": 3,
   "metadata": {
    "tags": []
   },
   "outputs": [
    {
     "output_type": "stream",
     "name": "stdout",
     "text": "0 2017-04-02 00:00:00,1099.169125\n\n1 2017-04-03 00:00:00,1141.813\n\n2 2017-04-04 00:00:00,1141.6003625\n\n3 2017-04-05 00:00:00,1133.0793142857142\n\n4 2017-04-06 00:00:00,1196.3079375\n\n5 2017-04-07 00:00:00,1190.45425\n\n6 2017-04-08 00:00:00,1181.1498375\n\n7 2017-04-09 00:00:00,1208.8005\n\n8 2017-04-10 00:00:00,1207.744875\n\n9 2017-04-11 00:00:00,1226.6170375\n\n"
    }
   ],
   "source": [
    "with open('data/btc-market-price.csv', 'r') as fp:\n",
    "    for index, line in enumerate(fp.readlines()):\n",
    "        # read just the first 10 lines\n",
    "        if (index < 10):\n",
    "            print(index, line)"
   ]
  }
 ]
}