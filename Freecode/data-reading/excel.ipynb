{
 "metadata": {
  "language_info": {
   "codemirror_mode": {
    "name": "ipython",
    "version": 3
   },
   "file_extension": ".py",
   "mimetype": "text/x-python",
   "name": "python",
   "nbconvert_exporter": "python",
   "pygments_lexer": "ipython3",
   "version": "3.8.5-final"
  },
  "orig_nbformat": 2,
  "kernelspec": {
   "name": "python38564bitbase2e2f0dae54b8424eb8c34441d12cf734",
   "display_name": "Python 3.8.5 64-bit ('base')"
  }
 },
 "nbformat": 4,
 "nbformat_minor": 2,
 "cells": [
  {
   "cell_type": "code",
   "execution_count": 2,
   "metadata": {
    "tags": []
   },
   "outputs": [
    {
     "output_type": "stream",
     "name": "stdout",
     "text": "PK\u0003\u0004\u0014\u0000\u0006\u0000\u0000\u0000!\u0000��\\\u000f�\u0001\u0000\u0000�\u0006\u0000\u0000\u0013\u0002[Content_Types].xml �\u0004\u0002(�\u0000\u0002\u0000\u0000\u0000\u0000\u0000\u0000\u0000\u0000\u0000\u0000\u0000\u0000\u0000\u0000\u0000\u0000\u0000\u0000\u0000\u0000\u0000\u0000\u0000\u0000\u0000\u0000\u0000\u0000\u0000\u0000\u0000\u0000\u0000\u0000\u0000\u0000\u0000\u0000\u0000\u0000\u0000\u0000\u0000\u0000\u0000\u0000\u0000\u0000\u0000\u0000\u0000\u0000\u0000\u0000\u0000\u0000\u0000\u0000\u0000\u0000\u0000\u0000\u0000\u0000\u0000\u0000\u0000\u0000\u0000\u0000\u0000\u0000\u0000\u0000\u0000\u0000\u0000\u0000\u0000\u0000\u0000\u0000\u0000\u0000\u0000\u0000\u0000\u0000\u0000\u0000\u0000\u0000\u0000\u0000\u0000\u0000\u0000\u0000\u0000\u0000\u0000\u0000\u0000\u0000\u0000\u0000\u0000\u0000\u0000\u0000\u0000\u0000\u0000\u0000\u0000\u0000\u0000\u0000\u0000\u0000\u0000\u0000\u0000\u0000\u0000\u0000\u0000\u0000\u0000\u0000\u0000\u0000\u0000\u0000\u0000\u0000\u0000\u0000\u0000\u0000\u0000\u0000\u0000\u0000\u0000\u0000\u0000\u0000\u0000\u0000\u0000\u0000\u0000\u0000\u0000\u0000\u0000\u0000\u0000\u0000\u0000\u0000\u0000\u0000\u0000\u0000\u0000\u0000\u0000\u0000\u0000\u0000\u0000\u0000\u0000\u0000\u0000\u0000\u0000\u0000\u0000\u0000\u0000\u0000\u0000\u0000\u0000\u0000\u0000\u0000\u0000\u0000\u0000\u0000\u0000\u0000\u0000\u0000\u0000\u0000\u0000\u0000\u0000\u0000\u0000\u0000\u0000\u0000\u0000\u0000\u0000\u0000\u0000\u0000\u0000\u0000\u0000\u0000\u0000\u0000\u0000\u0000\u0000\u0000\u0000\u0000\u0000\u0000\u0000\u0000\u0000\u0000\u0000\u0000\u0000\u0000\u0000\u0000\u0000\u0000\u0000\u0000\u0000\u0000\u0000\u0000\u0000\u0000\u0000\u0000\u0000\u0000\u0000\u0000\u0000\u0000\u0000\u0000\u0000\u0000\u0000\u0000\u0000\u0000\u0000\u0000\u0000\u0000\u0000\u0000\u0000\u0000\u0000\u0000\u0000\u0000\u0000\u0000\u0000\u0000\u0000\u0000\u0000\u0000\u0000\u0000\u0000\u0000\u0000\u0000\u0000\u0000\u0000\u0000\u0000\u0000\u0000\u0000\u0000\u0000\u0000\u0000\u0000\u0000\u0000\u0000\u0000\u0000\u0000\u0000\u0000\u0000\u0000\u0000\u0000\u0000\u0000\u0000\u0000\u0000\u0000\u0000\u0000\u0000\u0000\u0000\u0000\u0000\u0000\u0000\u0000\u0000\u0000\u0000\u0000\u0000\u0000\u0000\u0000\u0000\u0000\u0000\u0000\u0000\u0000\u0000\u0000\u0000\u0000\u0000\u0000\u0000\u0000\u0000\u0000\u0000\u0000\u0000\u0000\u0000\u0000\u0000\u0000\u0000\u0000\u0000\u0000\u0000\u0000\u0000\u0000\u0000\u0000\u0000\u0000\u0000\u0000\u0000\u0000\u0000\u0000\u0000\u0000\u0000\u0000\u0000\u0000\u0000\u0000\u0000\u0000\u0000\u0000\u0000\u0000\u0000\u0000\u0000\u0000\u0000\u0000\u0000\u0000\u0000\u0000\u0000\u0000\u0000\u0000\u0000\u0000\u0000\u0000\u0000\u0000\u0000\u0000\u0000\u0000\u0000\u0000\u0000\u0000\u0000\u0000\u0000\u0000\u0000\u0000\u0000\u0000\u0000\u0000\u0000\u0000\u0000\u0000\u0000\u0000\u0000\u0000\u0000\u0000\u0000\u0000\u0000\u0000\u0000\u0000\u0000\u0000\u0000\u0000\u0000\u0000\u0000\u0000\u0000\u0000\u0000\u0000\u0000\u0000\u0000\u0000\u0000\u0000\u0000\u0000\u0000\u0000\u0000\u0000\u0000\u0000\u0000\u0000\u0000\u0000\u0000\u0000\u0000\u0000\u0000\u0000\u0000\u0000\u0000\u0000\u0000\u0000\u0000\u0000\u0000\u0000\u0000\u0000\u0000\u0000\u0000\u0000\u0000\u0000\u0000\u0000\u0000\u0000\u0000\u0000\u0000\u0000\u0000���n�0\u0010E�\u0005�\u000f\u0002��E�� (,g���&amp;@\\�[�\u001c[��*g���!�\u0017\u0002�B`mDI��{H�W�˭w�=d�1t⬝�\u0006��ƆU&#39;�.~O.D���Q.\u0006��\u000eP\\ο~�-v\t��ꀝ��\u000f)Q��\u0015�1A��e�^\u0011?�LJ��\n�:`��!ƀ&amp;�+y�NO��p��ԍ{��&gt;��� �\u0000\u0000\u0000��\u0003\u0000PK\u0003\u0004\u0014\u0000\u0006\u0000\u0000\u0000!\u0000�Wy+|\u0002\u0000\u0000\u0019\u0005\u0000\u0000\u000f\u0000\u0000\u0000xl/workbook.xml��Ko�@\u0010��H|\u0007��5�#v�Z��4\t���K�jc��UֻfwC\u0012\u0010ߝY���^���}�f�?3N��5w���L���&#39;\u001eq@�`b������\tq����\\\n�t\u0010\u0005�\u001at_W��=��_����l�a.�\u0006\u0011+ƙ9�P��y|�\u0016R�\u0015ǰ�~ԓq�\u0002]�\\I-Ks�(�s�E����~\u0017r����}&#39;�C��3��\u0015N\u001cN�Y\u0014�@��S\\�\u001d&lt;�P��b�8��a\u0018x��~��J9\u0005�t��-&amp;����h\u0014\u0004���AM�\u0001%���\u0014\u00065|R�_�jٳJbv�k��e\n\u0000\u0000\u0000xl/styles.xml�X]��6\u0014}����x��\u0011�$\u0011���P��]mw�R_\u001db\u0012k���3�l���k\u0003��ig`g�yYEJ��9����\u0001\u0013�;�ԺǢ&amp;�Ŷw��\u0016f9�\u0011������ܶj��\u000eQ�pl�qm�K~�)����\u0003��\u0002\nV��A�j�8u~�%��x�\u0019�SpQ&quot;\t�b�ԕ�hW+PI\u001d�ugN�\u001b�e�\u000f!)��r�&amp;9/+$ɖP&quot;Ϛ˶�|�~ϸ@[\n���\u0000�\u001d�&gt;yB_�\\�\u0017�\n�\u001c^\u0014$�O�\\8\u000b\u0007����L�VΏLB��Z�����\u0003��_j���D�W�\u001eQ\u0018�l&#39;�rN��$T\u0006\u0002�#\f����F�l\u0005Q�\n���Q���7��\u0011��~��S췱�e�z\u0013�3݈��)7�nftg�[hY�8��;qG\u0006|Yfx���o��t�\u001d�ya��ڔ\u0019�=\u0014\u001c-��\u0001nw���\u000b&quot;X��@\u0007����9\u0010�-V;�@\u0000xqg�\u0003\u0011�o&#39;с\u000b�\u0015L\u0017с�\u001e`\u001a}o\u001f/\u0017{����������i0�ن�\u001dL\u0017���h��\u0006b��\u0006`��\u0006b��\u0006��bo�M�޼����M\u001a\fj��b�,Rw�\u0019se\u001b�ab\u001b��b\u001b�qb\u001b�׋����vb߬�g��C�^��g��\u0006b��\u0006`��\u0006b��\u0006�\u0019���\u0016�)��p�g�˃j`[;\\�#�w�?c�?�\u0015�ȱ�/�&gt;�{.5El��\u001f�\u0006�\u001d�_�}���~;bq\u0001�#�R4z{��Ҧ��\u001b\n\u001b0&amp;-�7B\u000f\u0007N��0��gO߇��\u001e\u0003\u000e�{��3��O���5� ��0�V\nR�\u001e��vN�z9�����!;�n#���&lt;6�f�8&amp;�O\u0002�\u0013\fU}�|��r&lt;���J�L�o���$�\u0019�p%|���c�\u0010p�-�9�&amp;f�g�*\\��$?��\n"
    }
   ],
   "source": [
    "import pandas as pd\n",
    "!head data/products.xlsx"
   ]
  },
  {
   "cell_type": "code",
   "execution_count": 4,
   "metadata": {},
   "outputs": [
    {
     "output_type": "execute_result",
     "data": {
      "text/plain": "   ProductID                   ProductName  SupplierID  CategoryID  \\\n0          1                          Chai           1           1   \n1          2                         Chang           1           1   \n2          3                 Aniseed Syrup           1           2   \n3          4  Chef Anton&#39;s Cajun Seasoning           2           2   \n4          5        Chef Anton&#39;s Gumbo Mix           2           2   \n\n       QuantityPerUnit  UnitPrice  UnitsInStock  UnitsOnOrder  ReorderLevel  \\\n0   10 boxes x 20 bags      18.00            39             0            10   \n1   24 - 12 oz bottles      19.00            17            40            25   \n2  12 - 550 ml bottles      10.00            13            70            25   \n3       48 - 6 oz jars      22.00            53             0             0   \n4             36 boxes      21.35             0             0             0   \n\n   Discontinued  \n0         False  \n1         False  \n2         False  \n3         False  \n4          True  ",
      "text/html": "<div>\n<style scoped>\n    .dataframe tbody tr th:only-of-type {\n        vertical-align: middle;\n    }\n\n    .dataframe tbody tr th {\n        vertical-align: top;\n    }\n\n    .dataframe thead th {\n        text-align: right;\n    }\n</style>\n<table border=\"1\" class=\"dataframe\">\n  <thead>\n    <tr style=\"text-align: right;\">\n      <th></th>\n      <th>ProductID</th>\n      <th>ProductName</th>\n      <th>SupplierID</th>\n      <th>CategoryID</th>\n      <th>QuantityPerUnit</th>\n      <th>UnitPrice</th>\n      <th>UnitsInStock</th>\n      <th>UnitsOnOrder</th>\n      <th>ReorderLevel</th>\n      <th>Discontinued</th>\n    </tr>\n  </thead>\n  <tbody>\n    <tr>\n      <th>0</th>\n      <td>1</td>\n      <td>Chai</td>\n      <td>1</td>\n      <td>1</td>\n      <td>10 boxes x 20 bags</td>\n      <td>18.00</td>\n      <td>39</td>\n      <td>0</td>\n      <td>10</td>\n      <td>False</td>\n    </tr>\n    <tr>\n      <th>1</th>\n      <td>2</td>\n      <td>Chang</td>\n      <td>1</td>\n      <td>1</td>\n      <td>24 - 12 oz bottles</td>\n      <td>19.00</td>\n      <td>17</td>\n      <td>40</td>\n      <td>25</td>\n      <td>False</td>\n    </tr>\n    <tr>\n      <th>2</th>\n      <td>3</td>\n      <td>Aniseed Syrup</td>\n      <td>1</td>\n      <td>2</td>\n      <td>12 - 550 ml bottles</td>\n      <td>10.00</td>\n      <td>13</td>\n      <td>70</td>\n      <td>25</td>\n      <td>False</td>\n    </tr>\n    <tr>\n      <th>3</th>\n      <td>4</td>\n      <td>Chef Anton's Cajun Seasoning</td>\n      <td>2</td>\n      <td>2</td>\n      <td>48 - 6 oz jars</td>\n      <td>22.00</td>\n      <td>53</td>\n      <td>0</td>\n      <td>0</td>\n      <td>False</td>\n    </tr>\n    <tr>\n      <th>4</th>\n      <td>5</td>\n      <td>Chef Anton's Gumbo Mix</td>\n      <td>2</td>\n      <td>2</td>\n      <td>36 boxes</td>\n      <td>21.35</td>\n      <td>0</td>\n      <td>0</td>\n      <td>0</td>\n      <td>True</td>\n    </tr>\n  </tbody>\n</table>\n</div>"
     },
     "metadata": {},
     "execution_count": 4
    }
   ],
   "source": [
    "df = pd.read_excel('data/products.xlsx')\n",
    "df.head()"
   ]
  },
  {
   "cell_type": "code",
   "execution_count": 9,
   "metadata": {},
   "outputs": [],
   "source": [
    "df =pd.read_excel('data/products.xlsx', header=None, index_col=[0]).head(5)"
   ]
  },
  {
   "cell_type": "code",
   "execution_count": 12,
   "metadata": {},
   "outputs": [
    {
     "output_type": "execute_result",
     "data": {
      "text/plain": "[&#39;Sheet1&#39;]"
     },
     "metadata": {},
     "execution_count": 12
    }
   ],
   "source": [
    "excel_file = pd.ExcelFile('data/products.xlsx')\n",
    "excel_file.sheet_names"
   ]
  },
  {
   "cell_type": "code",
   "execution_count": 13,
   "metadata": {},
   "outputs": [],
   "source": [
    "products = excel_file.parse(sheet_name='Sheet1', header=0, index_col='ProductID')"
   ]
  },
  {
   "cell_type": "code",
   "execution_count": 14,
   "metadata": {},
   "outputs": [
    {
     "output_type": "execute_result",
     "data": {
      "text/plain": "                            ProductName  SupplierID  CategoryID  \\\nProductID                                                         \n1                                  Chai           1           1   \n2                                 Chang           1           1   \n3                         Aniseed Syrup           1           2   \n4          Chef Anton&#39;s Cajun Seasoning           2           2   \n5                Chef Anton&#39;s Gumbo Mix           2           2   \n\n               QuantityPerUnit  UnitPrice  UnitsInStock  UnitsOnOrder  \\\nProductID                                                               \n1           10 boxes x 20 bags      18.00            39             0   \n2           24 - 12 oz bottles      19.00            17            40   \n3          12 - 550 ml bottles      10.00            13            70   \n4               48 - 6 oz jars      22.00            53             0   \n5                     36 boxes      21.35             0             0   \n\n           ReorderLevel  Discontinued  \nProductID                              \n1                    10         False  \n2                    25         False  \n3                    25         False  \n4                     0         False  \n5                     0          True  ",
      "text/html": "<div>\n<style scoped>\n    .dataframe tbody tr th:only-of-type {\n        vertical-align: middle;\n    }\n\n    .dataframe tbody tr th {\n        vertical-align: top;\n    }\n\n    .dataframe thead th {\n        text-align: right;\n    }\n</style>\n<table border=\"1\" class=\"dataframe\">\n  <thead>\n    <tr style=\"text-align: right;\">\n      <th></th>\n      <th>ProductName</th>\n      <th>SupplierID</th>\n      <th>CategoryID</th>\n      <th>QuantityPerUnit</th>\n      <th>UnitPrice</th>\n      <th>UnitsInStock</th>\n      <th>UnitsOnOrder</th>\n      <th>ReorderLevel</th>\n      <th>Discontinued</th>\n    </tr>\n    <tr>\n      <th>ProductID</th>\n      <th></th>\n      <th></th>\n      <th></th>\n      <th></th>\n      <th></th>\n      <th></th>\n      <th></th>\n      <th></th>\n      <th></th>\n    </tr>\n  </thead>\n  <tbody>\n    <tr>\n      <th>1</th>\n      <td>Chai</td>\n      <td>1</td>\n      <td>1</td>\n      <td>10 boxes x 20 bags</td>\n      <td>18.00</td>\n      <td>39</td>\n      <td>0</td>\n      <td>10</td>\n      <td>False</td>\n    </tr>\n    <tr>\n      <th>2</th>\n      <td>Chang</td>\n      <td>1</td>\n      <td>1</td>\n      <td>24 - 12 oz bottles</td>\n      <td>19.00</td>\n      <td>17</td>\n      <td>40</td>\n      <td>25</td>\n      <td>False</td>\n    </tr>\n    <tr>\n      <th>3</th>\n      <td>Aniseed Syrup</td>\n      <td>1</td>\n      <td>2</td>\n      <td>12 - 550 ml bottles</td>\n      <td>10.00</td>\n      <td>13</td>\n      <td>70</td>\n      <td>25</td>\n      <td>False</td>\n    </tr>\n    <tr>\n      <th>4</th>\n      <td>Chef Anton's Cajun Seasoning</td>\n      <td>2</td>\n      <td>2</td>\n      <td>48 - 6 oz jars</td>\n      <td>22.00</td>\n      <td>53</td>\n      <td>0</td>\n      <td>0</td>\n      <td>False</td>\n    </tr>\n    <tr>\n      <th>5</th>\n      <td>Chef Anton's Gumbo Mix</td>\n      <td>2</td>\n      <td>2</td>\n      <td>36 boxes</td>\n      <td>21.35</td>\n      <td>0</td>\n      <td>0</td>\n      <td>0</td>\n      <td>True</td>\n    </tr>\n  </tbody>\n</table>\n</div>"
     },
     "metadata": {},
     "execution_count": 14
    }
   ],
   "source": [
    "products.head()"
   ]
  },
  {
   "cell_type": "code",
   "execution_count": null,
   "metadata": {},
   "outputs": [],
   "source": [
    "# SAVE TO EXCEL\n",
    "products.to_excel('out.xlsx')"
   ]
  },
  {
   "cell_type": "code",
   "execution_count": null,
   "metadata": {},
   "outputs": [],
   "source": []
  },
  {
   "cell_type": "code",
   "execution_count": null,
   "metadata": {},
   "outputs": [],
   "source": []
  }
 ]
}