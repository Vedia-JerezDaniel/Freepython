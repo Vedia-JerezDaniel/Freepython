{
 "metadata": {
  "language_info": {
   "codemirror_mode": {
    "name": "ipython",
    "version": 3
   },
   "file_extension": ".py",
   "mimetype": "text/x-python",
   "name": "python",
   "nbconvert_exporter": "python",
   "pygments_lexer": "ipython3",
   "version": "3.8.5-final"
  },
  "orig_nbformat": 2,
  "kernelspec": {
   "name": "python38564bitbase2e2f0dae54b8424eb8c34441d12cf734",
   "display_name": "Python 3.8.5 64-bit ('base')"
  }
 },
 "nbformat": 4,
 "nbformat_minor": 2,
 "cells": [
  {
   "source": [
    "# RDP - Reading HTML Tables"
   ],
   "cell_type": "markdown",
   "metadata": {}
  },
  {
   "cell_type": "code",
   "execution_count": 1,
   "metadata": {
    "tags": []
   },
   "outputs": [
    {
     "output_type": "stream",
     "name": "stdout",
     "text": "Requirement already satisfied: lxml in /home/dani/anaconda3/lib/python3.8/site-packages (4.5.2)\n"
    }
   ],
   "source": [
    "!pip install lxml\n",
    "import pandas as pd"
   ]
  },
  {
   "cell_type": "code",
   "execution_count": 4,
   "metadata": {},
   "outputs": [],
   "source": [
    "html_string = \"\"\"\n",
    "<table>\n",
    "    <thead>\n",
    "      <tr>\n",
    "        <th>Order date</th>\n",
    "        <th>Region</th> \n",
    "        <th>Item</th>\n",
    "        <th>Units</th>\n",
    "        <th>Unit cost</th>\n",
    "      </tr>\n",
    "    </thead>\n",
    "    <tbody>\n",
    "      <tr>\n",
    "        <td>1/6/2018</td>\n",
    "        <td>East</td> \n",
    "        <td>Pencil</td>\n",
    "        <td>95</td>\n",
    "        <td>1.99</td>\n",
    "      </tr>\n",
    "      <tr>\n",
    "        <td>1/23/2018</td>\n",
    "        <td>Central</td> \n",
    "        <td>Binder</td>\n",
    "        <td>50</td>\n",
    "        <td>19.99</td>\n",
    "      </tr>\n",
    "      <tr>\n",
    "        <td>2/9/2018</td>\n",
    "        <td>Central</td> \n",
    "        <td>Pencil</td>\n",
    "        <td>36</td>\n",
    "        <td>4.99</td>\n",
    "      </tr>\n",
    "      <tr>\n",
    "        <td>3/15/2018</td>\n",
    "        <td>West</td> \n",
    "        <td>Pen</td>\n",
    "        <td>27</td>\n",
    "        <td>19.99</td>\n",
    "      </tr>\n",
    "    </tbody>\n",
    "</table>\n",
    "\"\"\""
   ]
  },
  {
   "cell_type": "code",
   "execution_count": 5,
   "metadata": {},
   "outputs": [
    {
     "output_type": "display_data",
     "data": {
      "text/plain": "&lt;IPython.core.display.HTML object&gt;",
      "text/html": "\n<table>\n    <thead>\n      <tr>\n        <th>Order date</th>\n        <th>Region</th> \n        <th>Item</th>\n        <th>Units</th>\n        <th>Unit cost</th>\n      </tr>\n    </thead>\n    <tbody>\n      <tr>\n        <td>1/6/2018</td>\n        <td>East</td> \n        <td>Pencil</td>\n        <td>95</td>\n        <td>1.99</td>\n      </tr>\n      <tr>\n        <td>1/23/2018</td>\n        <td>Central</td> \n        <td>Binder</td>\n        <td>50</td>\n        <td>19.99</td>\n      </tr>\n      <tr>\n        <td>2/9/2018</td>\n        <td>Central</td> \n        <td>Pencil</td>\n        <td>36</td>\n        <td>4.99</td>\n      </tr>\n      <tr>\n        <td>3/15/2018</td>\n        <td>West</td> \n        <td>Pen</td>\n        <td>27</td>\n        <td>19.99</td>\n      </tr>\n    </tbody>\n</table>\n"
     },
     "metadata": {}
    }
   ],
   "source": [
    "from IPython.core.display import display, HTML\n",
    "display(HTML(html_string))"
   ]
  },
  {
   "cell_type": "code",
   "execution_count": 8,
   "metadata": {},
   "outputs": [
    {
     "output_type": "execute_result",
     "data": {
      "text/plain": "1"
     },
     "metadata": {},
     "execution_count": 8
    }
   ],
   "source": [
    "dfs = pd.read_html(html_string)\n",
    "len(dfs)"
   ]
  },
  {
   "cell_type": "code",
   "execution_count": 10,
   "metadata": {},
   "outputs": [
    {
     "output_type": "execute_result",
     "data": {
      "text/plain": "  Order date   Region    Item  Units  Unit cost\n0   1/6/2018     East  Pencil     95       1.99\n1  1/23/2018  Central  Binder     50      19.99\n2   2/9/2018  Central  Pencil     36       4.99\n3  3/15/2018     West     Pen     27      19.99",
      "text/html": "<div>\n<style scoped>\n    .dataframe tbody tr th:only-of-type {\n        vertical-align: middle;\n    }\n\n    .dataframe tbody tr th {\n        vertical-align: top;\n    }\n\n    .dataframe thead th {\n        text-align: right;\n    }\n</style>\n<table border=\"1\" class=\"dataframe\">\n  <thead>\n    <tr style=\"text-align: right;\">\n      <th></th>\n      <th>Order date</th>\n      <th>Region</th>\n      <th>Item</th>\n      <th>Units</th>\n      <th>Unit cost</th>\n    </tr>\n  </thead>\n  <tbody>\n    <tr>\n      <th>0</th>\n      <td>1/6/2018</td>\n      <td>East</td>\n      <td>Pencil</td>\n      <td>95</td>\n      <td>1.99</td>\n    </tr>\n    <tr>\n      <th>1</th>\n      <td>1/23/2018</td>\n      <td>Central</td>\n      <td>Binder</td>\n      <td>50</td>\n      <td>19.99</td>\n    </tr>\n    <tr>\n      <th>2</th>\n      <td>2/9/2018</td>\n      <td>Central</td>\n      <td>Pencil</td>\n      <td>36</td>\n      <td>4.99</td>\n    </tr>\n    <tr>\n      <th>3</th>\n      <td>3/15/2018</td>\n      <td>West</td>\n      <td>Pen</td>\n      <td>27</td>\n      <td>19.99</td>\n    </tr>\n  </tbody>\n</table>\n</div>"
     },
     "metadata": {},
     "execution_count": 10
    }
   ],
   "source": [
    "df = dfs[0]\n",
    "df"
   ]
  },
  {
   "source": [
    " ## Defining header"
   ],
   "cell_type": "markdown",
   "metadata": {}
  },
  {
   "cell_type": "code",
   "execution_count": 11,
   "metadata": {},
   "outputs": [],
   "source": [
    "html_string = \"\"\"\n",
    "<table>\n",
    "  <tr>\n",
    "    <td>Order date</td>\n",
    "    <td>Region</td> \n",
    "    <td>Item</td>\n",
    "    <td>Units</td>\n",
    "    <td>Unit cost</td>\n",
    "  </tr>\n",
    "  <tr>\n",
    "    <td>1/6/2018</td>\n",
    "    <td>East</td> \n",
    "    <td>Pencil</td>\n",
    "    <td>95</td>\n",
    "    <td>1.99</td>\n",
    "  </tr>\n",
    "  <tr>\n",
    "    <td>1/23/2018</td>\n",
    "    <td>Central</td> \n",
    "    <td>Binder</td>\n",
    "    <td>50</td>\n",
    "    <td>19.99</td>\n",
    "  </tr>\n",
    "  <tr>\n",
    "    <td>2/9/2018</td>\n",
    "    <td>Central</td> \n",
    "    <td>Pencil</td>\n",
    "    <td>36</td>\n",
    "    <td>4.99</td>\n",
    "  </tr>\n",
    "  <tr>\n",
    "    <td>3/15/2018</td>\n",
    "    <td>West</td> \n",
    "    <td>Pen</td>\n",
    "    <td>27</td>\n",
    "    <td>19.99</td>\n",
    "  </tr>\n",
    "</table>\n",
    "\"\"\"     "
   ]
  },
  {
   "cell_type": "code",
   "execution_count": 12,
   "metadata": {},
   "outputs": [
    {
     "output_type": "execute_result",
     "data": {
      "text/plain": "  Order date   Region    Item  Units  Unit cost\n0   1/6/2018     East  Pencil     95       1.99\n1  1/23/2018  Central  Binder     50      19.99\n2   2/9/2018  Central  Pencil     36       4.99\n3  3/15/2018     West     Pen     27      19.99",
      "text/html": "<div>\n<style scoped>\n    .dataframe tbody tr th:only-of-type {\n        vertical-align: middle;\n    }\n\n    .dataframe tbody tr th {\n        vertical-align: top;\n    }\n\n    .dataframe thead th {\n        text-align: right;\n    }\n</style>\n<table border=\"1\" class=\"dataframe\">\n  <thead>\n    <tr style=\"text-align: right;\">\n      <th></th>\n      <th>Order date</th>\n      <th>Region</th>\n      <th>Item</th>\n      <th>Units</th>\n      <th>Unit cost</th>\n    </tr>\n  </thead>\n  <tbody>\n    <tr>\n      <th>0</th>\n      <td>1/6/2018</td>\n      <td>East</td>\n      <td>Pencil</td>\n      <td>95</td>\n      <td>1.99</td>\n    </tr>\n    <tr>\n      <th>1</th>\n      <td>1/23/2018</td>\n      <td>Central</td>\n      <td>Binder</td>\n      <td>50</td>\n      <td>19.99</td>\n    </tr>\n    <tr>\n      <th>2</th>\n      <td>2/9/2018</td>\n      <td>Central</td>\n      <td>Pencil</td>\n      <td>36</td>\n      <td>4.99</td>\n    </tr>\n    <tr>\n      <th>3</th>\n      <td>3/15/2018</td>\n      <td>West</td>\n      <td>Pen</td>\n      <td>27</td>\n      <td>19.99</td>\n    </tr>\n  </tbody>\n</table>\n</div>"
     },
     "metadata": {},
     "execution_count": 12
    }
   ],
   "source": [
    "pd.read_html(html_string, header=0)[0]"
   ]
  },
  {
   "source": [
    "##  Parsing HTML tables from the web"
   ],
   "cell_type": "markdown",
   "metadata": {}
  },
  {
   "cell_type": "code",
   "execution_count": 13,
   "metadata": {},
   "outputs": [
    {
     "output_type": "execute_result",
     "data": {
      "text/plain": "1"
     },
     "metadata": {},
     "execution_count": 13
    }
   ],
   "source": [
    "html_url = \"https://www.basketball-reference.com/leagues/NBA_2019_per_game.html\"\n",
    "nba_tables = pd.read_html(html_url)\n",
    "len(nba_tables)"
   ]
  },
  {
   "cell_type": "code",
   "execution_count": 14,
   "metadata": {},
   "outputs": [
    {
     "output_type": "execute_result",
     "data": {
      "text/plain": "  Rk        Player Pos Age   Tm   G  GS    MP   FG   FGA  ...   FT%  ORB  DRB  \\\n0  1  Álex Abrines  SG  25  OKC  31   2  19.0  1.8   5.1  ...  .923  0.2  1.4   \n1  2    Quincy Acy  PF  28  PHO  10   0  12.3  0.4   1.8  ...  .700  0.3  2.2   \n2  3  Jaylen Adams  PG  22  ATL  34   1  12.6  1.1   3.2  ...  .778  0.3  1.4   \n3  4  Steven Adams   C  25  OKC  80  80  33.4  6.0  10.1  ...  .500  4.9  4.6   \n4  5   Bam Adebayo   C  21  MIA  82  28  23.3  3.4   5.9  ...  .735  2.0  5.3   \n\n   TRB  AST  STL  BLK  TOV   PF   PTS  \n0  1.5  0.6  0.5  0.2  0.5  1.7   5.3  \n1  2.5  0.8  0.1  0.4  0.4  2.4   1.7  \n2  1.8  1.9  0.4  0.1  0.8  1.3   3.2  \n3  9.5  1.6  1.5  1.0  1.7  2.6  13.9  \n4  7.3  2.2  0.9  0.8  1.5  2.5   8.9  \n\n[5 rows x 30 columns]",
      "text/html": "<div>\n<style scoped>\n    .dataframe tbody tr th:only-of-type {\n        vertical-align: middle;\n    }\n\n    .dataframe tbody tr th {\n        vertical-align: top;\n    }\n\n    .dataframe thead th {\n        text-align: right;\n    }\n</style>\n<table border=\"1\" class=\"dataframe\">\n  <thead>\n    <tr style=\"text-align: right;\">\n      <th></th>\n      <th>Rk</th>\n      <th>Player</th>\n      <th>Pos</th>\n      <th>Age</th>\n      <th>Tm</th>\n      <th>G</th>\n      <th>GS</th>\n      <th>MP</th>\n      <th>FG</th>\n      <th>FGA</th>\n      <th>...</th>\n      <th>FT%</th>\n      <th>ORB</th>\n      <th>DRB</th>\n      <th>TRB</th>\n      <th>AST</th>\n      <th>STL</th>\n      <th>BLK</th>\n      <th>TOV</th>\n      <th>PF</th>\n      <th>PTS</th>\n    </tr>\n  </thead>\n  <tbody>\n    <tr>\n      <th>0</th>\n      <td>1</td>\n      <td>Álex Abrines</td>\n      <td>SG</td>\n      <td>25</td>\n      <td>OKC</td>\n      <td>31</td>\n      <td>2</td>\n      <td>19.0</td>\n      <td>1.8</td>\n      <td>5.1</td>\n      <td>...</td>\n      <td>.923</td>\n      <td>0.2</td>\n      <td>1.4</td>\n      <td>1.5</td>\n      <td>0.6</td>\n      <td>0.5</td>\n      <td>0.2</td>\n      <td>0.5</td>\n      <td>1.7</td>\n      <td>5.3</td>\n    </tr>\n    <tr>\n      <th>1</th>\n      <td>2</td>\n      <td>Quincy Acy</td>\n      <td>PF</td>\n      <td>28</td>\n      <td>PHO</td>\n      <td>10</td>\n      <td>0</td>\n      <td>12.3</td>\n      <td>0.4</td>\n      <td>1.8</td>\n      <td>...</td>\n      <td>.700</td>\n      <td>0.3</td>\n      <td>2.2</td>\n      <td>2.5</td>\n      <td>0.8</td>\n      <td>0.1</td>\n      <td>0.4</td>\n      <td>0.4</td>\n      <td>2.4</td>\n      <td>1.7</td>\n    </tr>\n    <tr>\n      <th>2</th>\n      <td>3</td>\n      <td>Jaylen Adams</td>\n      <td>PG</td>\n      <td>22</td>\n      <td>ATL</td>\n      <td>34</td>\n      <td>1</td>\n      <td>12.6</td>\n      <td>1.1</td>\n      <td>3.2</td>\n      <td>...</td>\n      <td>.778</td>\n      <td>0.3</td>\n      <td>1.4</td>\n      <td>1.8</td>\n      <td>1.9</td>\n      <td>0.4</td>\n      <td>0.1</td>\n      <td>0.8</td>\n      <td>1.3</td>\n      <td>3.2</td>\n    </tr>\n    <tr>\n      <th>3</th>\n      <td>4</td>\n      <td>Steven Adams</td>\n      <td>C</td>\n      <td>25</td>\n      <td>OKC</td>\n      <td>80</td>\n      <td>80</td>\n      <td>33.4</td>\n      <td>6.0</td>\n      <td>10.1</td>\n      <td>...</td>\n      <td>.500</td>\n      <td>4.9</td>\n      <td>4.6</td>\n      <td>9.5</td>\n      <td>1.6</td>\n      <td>1.5</td>\n      <td>1.0</td>\n      <td>1.7</td>\n      <td>2.6</td>\n      <td>13.9</td>\n    </tr>\n    <tr>\n      <th>4</th>\n      <td>5</td>\n      <td>Bam Adebayo</td>\n      <td>C</td>\n      <td>21</td>\n      <td>MIA</td>\n      <td>82</td>\n      <td>28</td>\n      <td>23.3</td>\n      <td>3.4</td>\n      <td>5.9</td>\n      <td>...</td>\n      <td>.735</td>\n      <td>2.0</td>\n      <td>5.3</td>\n      <td>7.3</td>\n      <td>2.2</td>\n      <td>0.9</td>\n      <td>0.8</td>\n      <td>1.5</td>\n      <td>2.5</td>\n      <td>8.9</td>\n    </tr>\n  </tbody>\n</table>\n<p>5 rows × 30 columns</p>\n</div>"
     },
     "metadata": {},
     "execution_count": 14
    }
   ],
   "source": [
    "nba = nba_tables[0]\n",
    "nba.head()"
   ]
  },
  {
   "source": [
    "## Complex example\n"
   ],
   "cell_type": "markdown",
   "metadata": {}
  },
  {
   "cell_type": "code",
   "execution_count": 16,
   "metadata": {},
   "outputs": [
    {
     "output_type": "execute_result",
     "data": {
      "text/plain": "27"
     },
     "metadata": {},
     "execution_count": 16
    }
   ],
   "source": [
    "import requests\n",
    "\n",
    "html_url = \"https://en.wikipedia.org/wiki/The_Simpsons\"\n",
    "\n",
    "r = requests.get(html_url)\n",
    "\n",
    "wiki_tables = pd.read_html(r.text, header=0)\n",
    "len(wiki_tables)"
   ]
  },
  {
   "cell_type": "code",
   "execution_count": 17,
   "metadata": {},
   "outputs": [
    {
     "output_type": "execute_result",
     "data": {
      "text/plain": "ey&#39;s Anatomy2006]\n Index: [],\n                 vteThe Simpsons  \\\n 0      The Simpsons (franchise)   \n 1                    Characters   \n 2   Simpson familyand relatives   \n 3           Recurringcharacters   \n 4                       History   \n 5                    Production   \n 6                      Episodes   \n 7                       Seasons   \n 8                     Hallmarks   \n 9                        Themes   \n 10                    Locations   \n 11                        Films   \n 12                  Other media   \n 13                  Theme parks   \n 14                Miscellaneous   \n 15               Inspired works   \n 16                      Related   \n 17       Portal  Category  Book   \n \n                                     vteThe Simpsons.1  \n 0                            The Simpsons (franchise)  \n 1   Simpson familyand relatives Homer Simpson Marg...  \n 2   Homer Simpson Marge Simpson Bart Simpson Lisa ...  \n 3   Sideshow Bob Kent Brockman Mr. Burns Comic Boo...  \n 4   The Simpsons shorts from The Tracey Ullman Sho...  \n 5   Cast members Guest stars (Seasons 1–20 Seasons...  \n 6                     Seasons 1–20 Seasons 21–present  \n 7   1 2 3 4 5 6 7 8 9 10 11 12 13 14 15 16 17 18 1...  \n 8   Opening sequence Main title theme Treehouse of...  \n 9                             Media Politics Religion  \n 10         Springfield The Simpsons house Kwik-E-Mart  \n 11  The Simpsons Movie (2007) Maggie Simpson in .....  \n 12  &quot;The Simpsons Guy&quot; Video games Books Comics Di...  \n 13  Springfield Florida Hollywood The Simpsons Rid...  \n 14  &quot;D&#39;oh!&quot; &quot;¡Ay, caramba!&quot; &quot;Cheese-eating surrend...  \n 15  Bibliography Mr. Burns, a Post-Electric Play M...  \n 16  Accolades Home video Frinkiac alt.tv.simpsons ...  \n 17                             Portal  Category  Book  ,\n   Simpson familyand relatives  \\\n 0         Recurringcharacters   \n \n   Homer Simpson Marge Simpson Bart Simpson Lisa Simpson Maggie Simpson Grampa Simpson Patty and Selma Bouvier Mona Simpson Santa&#39;s Little Helper  \n 0  Sideshow Bob Kent Brockman Mr. Burns Comic Boo...                                                                                              ,\n                             vteThe Simpsons episodes  \\\n 0  Seasons 1–20 1 2 3 4 5 6 7 8 9 10 11 12 13 14 ...   \n 1                                    Themed episodes   \n 2                                           See also   \n 3                                     Category  Book   \n \n                           vteThe Simpsons episodes.1  \n 0  Seasons 1–20 1 2 3 4 5 6 7 8 9 10 11 12 13 14 ...  \n 1                           Treehouse of Horror list  \n 2  Itchy and Scratchy episodes The Simpsons episo...  \n 3                                     Category  Book  ,\n                             Links to related articles  \\\n 0   vteMatt GroeningTelevision series The Simpsons...   \n 1                                    vteMatt Groening   \n 2                                   Television series   \n 3                                               Films   \n 4                                              Comics   \n 5                                               Other   \n 6                                            See also   \n 7                                     vteGracie Films   \n 8                                     James L. Brooks   \n 9                                           TV series   \n 10                                             Movies   \n 11  20th Century Fox Television Sony Pictures Ente...   \n 12                             vteRough Draft Studios   \n 13                                      Feature films   \n 14                                        Short films   \n 15                                          TV series   \n 16                                             People   \n 17                        vteAnimated programs on Fox   \n 18                                            Current   \n 19                                           Upcoming   \n 20                                              1990s   \n 21                                              2000s   \n 22                                              2010s   \n 23                       Animation DominationHigh-Def   \n 24                                            Related   \n 25          vteFox programming (current and upcoming)   \n 26                                          Primetime   \n 27                                               News   \n 28                                             Sports   \n 29                                           Upcoming   \n 30  See also Animation Domination Animation on Fox...   \n \n                           Links to related articles.1  \n 0   vteMatt GroeningTelevision series The Simpsons...  \n 1                                    vteMatt Groening  \n 2   The Simpsons (1989–present) Futurama (1999–200...  \n 3   The Simpsons Movie (2007) Futurama films Bende...  \n 4                            Life in Hell (1977–2012)  \n 5   The Simpsons shorts from The Tracey Ullman Sho...  \n 6   Awards Bongo Comics The Curiosity Company Rock...  \n 7                                     vteGracie Films  \n 8                                     James L. Brooks  \n 9   The Tracey Ullman Show (1987–1990) The Simpson...  \n 10  Broadcast News (1987) Big (1988) Say Anything....  \n 11  20th Century Fox Television Sony Pictures Ente...  \n 12                             vteRough Draft Studios  \n 13  The Simpsons Movie (2007) Futurama: Bender&#39;s B...  \n 14  Duck Dodgers - Attack of the Drones MADtv&#39;s Sp...  \n 15  Baby Blues Disenchantment Drawn Together Full ...  \n 16  Gregg Vanzo Claudia Katz Peter Avanzino Dwayne...  \n 17                        vteAnimated programs on Fox  \n 18  The Simpsons (since 1989) Family Guy (since 19...  \n 19  The Great North (TBA) Housebroken (TBA) Untitl...  \n 20  The Critic (1995) King of the Hill (1997–2010)...  \n 21  American Dad! (2005–2014) Sit Down, Shut Up (2...  \n 22  Allen Gregory (2011) Napoleon Dynamite (2012) ...  \n 23  ADHD Shorts Axe Cop Golan the Insatiable High ...  \n 24  The Simpsons shorts (1987–1989) Night of the H...  \n 25          vteFox programming (current and upcoming)  \n 26  9-1-1 (since 2018) 9-1-1: Lone Star (since 202...  \n 27                       Fox News Sunday (since 1996)  \n 28  Fox College Football (since 1999) Big Noon Kic...  \n 29  Next (2020) Call Me Kat (TBA) The Great North ...  \n 30  See also Animation Domination Animation on Fox...  ,\n     vteMatt Groening                                 vteMatt Groening.1\n 0  Television series  The Simpsons (1989–present) Futurama (1999–200...\n 1              Films  The Simpsons Movie (2007) Futurama films Bende...\n 2             Comics                           Life in Hell (1977–2012)\n 3              Other  The Simpsons shorts from The Tracey Ullman Sho...\n 4           See also  Awards Bongo Comics The Curiosity Company Rock...,\n                                      vteGracie Films  \\\n 0                                    James L. Brooks   \n 1                                          TV series   \n 2                                             Movies   \n 3  20th Century Fox Television Sony Pictures Ente...   \n \n                                    vteGracie Films.1  \n 0                                    James L. Brooks  \n 1  The Tracey Ullman Show (1987–1990) The Simpson...  \n 2  Broadcast News (1987) Big (1988) Say Anything....  \n 3  20th Century Fox Television Sony Pictures Ente...  ,\n   vteRough Draft Studios                           vteRough Draft Studios.1\n 0          Feature films  The Simpsons Movie (2007) Futurama: Bender&#39;s B...\n 1            Short films  Duck Dodgers - Attack of the Drones MADtv&#39;s Sp...\n 2              TV series  Baby Blues Disenchantment Drawn Together Full ...\n 3                 People  Gregg Vanzo Claudia Katz Peter Avanzino Dwayne...,\n     vteAnimated programs on Fox  \\\n 0                       Current   \n 1                      Upcoming   \n 2                         1990s   \n 3                         2000s   \n 4                         2010s   \n 5  Animation DominationHigh-Def   \n 6                       Related   \n \n                        vteAnimated programs on Fox.1  \n 0  The Simpsons (since 1989) Family Guy (since 19...  \n 1  The Great North (TBA) Housebroken (TBA) Untitl...  \n 2  The Critic (1995) King of the Hill (1997–2010)...  \n 3  American Dad! (2005–2014) Sit Down, Shut Up (2...  \n 4  Allen Gregory (2011) Napoleon Dynamite (2012) ...  \n 5  ADHD Shorts Axe Cop Golan the Insatiable High ...  \n 6  The Simpsons shorts (1987–1989) Night of the H...  ,\n            vteFox programming (current and upcoming)  \\\n 0                                          Primetime   \n 1                                               News   \n 2                                             Sports   \n 3                                           Upcoming   \n 4  See also Animation Domination Animation on Fox...   \n \n          vteFox programming (current and upcoming).1  \n 0  9-1-1 (since 2018) 9-1-1: Lone Star (since 202...  \n 1                       Fox News Sunday (since 1996)  \n 2  Fox College Football (since 1999) Big Noon Kic...  \n 3  Next (2020) Call Me Kat (TBA) The Great North ...  \n 4  See also Animation Domination Animation on Fox...  ,\n                               Awards for The Simpsons  \\\n 0   vteAnnie Award for Best Animated Television Pr...   \n 1   vteAnnie Award for Best Animated Television Pr...   \n 2   The Simpsons (1992 - 1997) The Simpsons / The ...   \n 3   vtePrimetime Emmy Award for Outstanding Animat...   \n 4                                               1970s   \n 5                                               1980s   \n 6                                               1990s   \n 7                                               2000s   \n 8                        Program (Less Than One Hour)   \n 9                          Program (One Hour or More)   \n 10                                              2010s   \n 11                                              2020s   \n 12  vtePeople&#39;s Choice Awards for Favorite New TV ...   \n 13  The Love Boat (1978) Mork &amp; Mindy (1979) Too C...   \n 14         vteSaturn Award for Best Television Series   \n 15                                              1980s   \n 16                                              1990s   \n 17                                              2000s   \n 18                                              2010s   \n 19  vteTCA Award for Outstanding Achievement in Co...   \n 20  The Cosby Show, season 1 (1985) The Cosby Show...   \n 21                              vteTCA Heritage Award   \n 22  The Simpsons (2002) Buffy the Vampire Slayer (...   \n 23    vteTeen Choice Award for Choice Animated Series   \n 24  Family Guy (2006) The Simpsons (2007) Family G...   \n 25  vteWriters Guild of America Award for Televisi...   \n 26                                              2000s   \n 27  2002: Futurama - &quot;Godfellas&quot; 2003: The Simpson...   \n 28                                              2010s   \n 29  2010: Futurama - &quot;The Prisoner of Benda&quot; 2011:...   \n 30                          Complete list 2000s 2010s   \n \n                             Awards for The Simpsons.1  \n 0   vteAnnie Award for Best Animated Television Pr...  \n 1   vteAnnie Award for Best Animated Television Pr...  \n 2   The Simpsons (1992 - 1997) The Simpsons / The ...  \n 3   vtePrimetime Emmy Award for Outstanding Animat...  \n 4   Halloween Is Grinch Night (1978) The Lion, the...  \n 5   Carlton Your Doorman (1980) Life Is a Circus, ...  \n 6   The Simpsons (&quot;Life on the Fast Lane&quot;) (1990) ...  \n 7   Program (Less Than One Hour) The Simpsons (&quot;Be...  \n 8   The Simpsons (&quot;Behind the Laughter&quot;) (2000) Th...  \n 9   Walking with Dinosaurs (2000) Allosaurus: A Wa...  \n 10  Prep &amp; Landing (2010) Futurama (&quot;The Late Phil...  \n 11  Rick and Morty (&quot;The Vat of Acid Episode&quot;) (2020)  \n 12  vtePeople&#39;s Choice Awards for Favorite New TV ...  \n 13  The Love Boat (1978) Mork &amp; Mindy (1979) Too C...  \n 14         vteSaturn Award for Best Television Series  \n 15              Star Trek: The Next Generation (1988)  \n 16  Star Trek: The Next Generation (1989/90) Dark ...  \n 17  Buffy the Vampire Slayer (2000) Buffy the Vamp...  \n 18  Fringe (2010) Fringe (2011) Revolution (2012) ...  \n 19  vteTCA Award for Outstanding Achievement in Co...  \n 20  The Cosby Show, season 1 (1985) The Cosby Show...  \n 21                              vteTCA Heritage Award  \n 22  The Simpsons (2002) Buffy the Vampire Slayer (...  \n 23    vteTeen Choice Award for Choice Animated Series  \n 24  Family Guy (2006) The Simpsons (2007) Family G...  \n 25  vteWriters Guild of America Award for Televisi...  \n 26  2002: Futurama - &quot;Godfellas&quot; 2003: The Simpson...  \n 27  2002: Futurama - &quot;Godfellas&quot; 2003: The Simpson...  \n 28  2010: Futurama - &quot;The Prisoner of Benda&quot; 2011:...  \n 29  2010: Futurama - &quot;The Prisoner of Benda&quot; 2011:...  \n 30                          Complete list 2000s 2010s  ,\n   vteAnnie Award for Best Animated Television Production  \\\n 0  The Simpsons (1992 - 1997) The Simpsons / The ...       \n \n   vteAnnie Award for Best Animated Television Production.1  \n 0  The Simpsons (1992 - 1997) The Simpsons / The ...        ,\n   vtePrimetime Emmy Award for Outstanding Animated Program  \\\n 0                                              1970s         \n 1                                              1980s         \n 2                                              1990s         \n 3                                              2000s         \n 4                       Program (Less Than One Hour)         \n 5                         Program (One Hour or More)         \n 6                                              2010s         \n 7                                              2020s         \n \n   vtePrimetime Emmy Award for Outstanding Animated Program.1  \n 0  Halloween Is Grinch Night (1978) The Lion, the...          \n 1  Carlton Your Doorman (1980) Life Is a Circus, ...          \n 2  The Simpsons (&quot;Life on the Fast Lane&quot;) (1990) ...          \n 3  Program (Less Than One Hour) The Simpsons (&quot;Be...          \n 4  The Simpsons (&quot;Behind the Laughter&quot;) (2000) Th...          \n 5  Walking with Dinosaurs (2000) Allosaurus: A Wa...          \n 6  Prep &amp; Landing (2010) Futurama (&quot;The Late Phil...          \n 7  Rick and Morty (&quot;The Vat of Acid Episode&quot;) (2020)          ,\n   Program (Less Than One Hour)  \\\n 0   Program (One Hour or More)   \n \n   The Simpsons (&quot;Behind the Laughter&quot;) (2000) The Simpsons (&quot;HOMR&quot;) (2001) Futurama (&quot;Roswell That Ends Well&quot;) (2002) The Simpsons (&quot;Three Gays of the Condo&quot;) (2003) Samurai Jack (&quot;The Birth of Evil&quot;) (2004) South Park (&quot;Best Friends Forever&quot;) (2005) The Simpsons (&quot;The Seemingly Never-Ending Story&quot;) (2006) South Park (&quot;Make Love, Not Warcraft&quot;) (2007) The Simpsons (&quot;Eternal Moonshine of the Simpson Mind&quot;) (2008) South Park (&quot;Margaritaville&quot;) (2009)  \n 0  Walking with Dinosaurs (2000) Allosaurus: A Wa...                                                                                                                                                                                                                                                                                                                                                                                                                  ,\n   vtePeople&#39;s Choice Awards for Favorite New TV Comedy  \\\n 0  The Love Boat (1978) Mork &amp; Mindy (1979) Too C...     \n \n   vtePeople&#39;s Choice Awards for Favorite New TV Comedy.1  \n 0  The Love Boat (1978) Mork &amp; Mindy (1979) Too C...      ,\n   vteSaturn Award for Best Television Series  \\\n 0                                      1980s   \n 1                                      1990s   \n 2                                      2000s   \n 3                                      2010s   \n \n         vteSaturn Award for Best Television Series.1  \n 0              Star Trek: The Next Generation (1988)  \n 1  Star Trek: The Next Generation (1989/90) Dark ...  \n 2  Buffy the Vampire Slayer (2000) Buffy the Vamp...  \n 3  Fringe (2010) Fringe (2011) Revolution (2012) ...  ,\n   vteTCA Award for Outstanding Achievement in Comedy  \\\n 0  The Cosby Show, season 1 (1985) The Cosby Show...   \n \n   vteTCA Award for Outstanding Achievement in Comedy.1  \n 0  The Cosby Show, season 1 (1985) The Cosby Show...    ,\n                                vteTCA Heritage Award  \\\n 0  The Simpsons (2002) Buffy the Vampire Slayer (...   \n \n                              vteTCA Heritage Award.1  \n 0  The Simpsons (2002) Buffy the Vampire Slayer (...  ,\n      vteTeen Choice Award for Choice Animated Series  \\\n 0  Family Guy (2006) The Simpsons (2007) Family G...   \n \n    vteTeen Choice Award for Choice Animated Series.1  \n 0  Family Guy (2006) The Simpsons (2007) Family G...  ,\n   vteWriters Guild of America Award for Television: Animation  \\\n 0                                              2000s            \n 1  2002: Futurama - &quot;Godfellas&quot; 2003: The Simpson...            \n 2                                              2010s            \n 3  2010: Futurama - &quot;The Prisoner of Benda&quot; 2011:...            \n 4                          Complete list 2000s 2010s            \n \n   vteWriters Guild of America Award for Television: Animation.1  \n 0  2002: Futurama - &quot;Godfellas&quot; 2003: The Simpson...             \n 1  2002: Futurama - &quot;Godfellas&quot; 2003: The Simpson...             \n 2  2010: Futurama - &quot;The Prisoner of Benda&quot; 2011:...             \n 3  2010: Futurama - &quot;The Prisoner of Benda&quot; 2011:...             \n 4                          Complete list 2000s 2010s             ,\n Empty DataFrame\n Columns: [2002: Futurama - &quot;Godfellas&quot; 2003: The Simpsons - &quot;The Dad Who Knew Too Little&quot; 2004: The Simpsons - &quot;Catch &#39;Em If You Can&quot; 2005: The Simpsons - &quot;Mommie Beerest&quot; 2006: The Simpsons - &quot;The Italian Bob&quot; 2007: The Simpsons - &quot;Kill Gil, Volumes I &amp; II&quot; 2008: The Simpsons - &quot;Apocalypse Cow&quot; 2009: The Simpsons - &quot;Wedding for Disaster&quot;, 2002: Futurama - &quot;Godfellas&quot; 2003: The Simpsons - &quot;The Dad Who Knew Too Little&quot; 2004: The Simpsons - &quot;Catch &#39;Em If You Can&quot; 2005: The Simpsons - &quot;Mommie Beerest&quot; 2006: The Simpsons - &quot;The Italian Bob&quot; 2007: The Simpsons - &quot;Kill Gil, Volumes I &amp; II&quot; 2008: The Simpsons - &quot;Apocalypse Cow&quot; 2009: The Simpsons - &quot;Wedding for Disaster&quot;.1]\n Index: [],\n Empty DataFrame\n Columns: [2010: Futurama - &quot;The Prisoner of Benda&quot; 2011: The Simpsons - &quot;Homer the Father&quot; 2012: The Simpsons - &quot;Ned &#39;n&#39; Edna&#39;s Blend Agenda&quot; 2013: The Simpsons - &quot;A Test Before Trying&quot; 2014: The Simpsons - &quot;Brick Like Me&quot; 2015: Bob&#39;s Burgers - &quot;Housetrap&quot; 2016: BoJack Horseman - &quot;Stop the Presses&quot; 2017: BoJack Horseman - &quot;Time&#39;s Arrow&quot; 2018: The Simpsons - &quot;Bart&#39;s Not Dead&quot; 2019: The Simpsons - &quot;Thanksgiving of Horror&quot;, 2010: Futurama - &quot;The Prisoner of Benda&quot; 2011: The Simpsons - &quot;Homer the Father&quot; 2012: The Simpsons - &quot;Ned &#39;n&#39; Edna&#39;s Blend Agenda&quot; 2013: The Simpsons - &quot;A Test Before Trying&quot; 2014: The Simpsons - &quot;Brick Like Me&quot; 2015: Bob&#39;s Burgers - &quot;Housetrap&quot; 2016: BoJack Horseman - &quot;Stop the Presses&quot; 2017: BoJack Horseman - &quot;Time&#39;s Arrow&quot; 2018: The Simpsons - &quot;Bart&#39;s Not Dead&quot; 2019: The Simpsons - &quot;Thanksgiving of Horror&quot;.1]\n Index: [],\n                  PortalsAccess related topics  \\\n 0                                         NaN   \n 1  Find out more onWikipedia&#39;sSister projects   \n \n   The Simpsons portalAnimation portalComedy portalCartoon portalTelevision portalUnited States portal1980s portal1990s portal  \n 0                                                NaN                                                                           \n 1  Mediafrom CommonsNews storiesfrom WikinewsDefi...                                                                           ,\n Empty DataFrame\n Columns: [Authority control, BIBSYS: 9076907 BNE: XX1673376 BNF: cb15766586p (data) GND: 4601809-8 LCCN: n91098698 MusicBrainz: eca1f8ea-52af-4e33-959a-12a59e12adab NDL: 001237847 NKC: unn2010590021 SUDOC: 124359191 VIAF: 93146634442941931836  WorldCat Identities (via VIAF): 93146634442941931836]\n Index: []]"
     },
     "metadata": {},
     "execution_count": 17
    }
   ],
   "source": [
    "wiki_tables "
   ]
  },
  {
   "cell_type": "code",
   "execution_count": 21,
   "metadata": {},
   "outputs": [
    {
     "output_type": "execute_result",
     "data": {
      "text/plain": "   Season Season.1  No. ofepisodes    Originally aired Originally aired.1  \\\n0  Season   Season  No. ofepisodes     Season premiere      Season finale   \n1  Season   Season  No. ofepisodes     Season premiere      Season finale   \n2       1  1989–90              13   December 17, 1989       May 13, 1990   \n3       2  1990–91              22    October 11, 1990      July 11, 1991   \n4       3  1991–92              24  September 19, 1991    August 27, 1992   \n\n  Originally aired.2                 Viewership          Viewership.1  \\\n0     Time Slot (ET)  Avg. viewers(in millions)  Most watched episode   \n1     Time Slot (ET)  Avg. viewers(in millions)     Viewers(millions)   \n2     Sunday 8:30 pm                       27.8                  33.5   \n3   Thursday 8:00 pm                       24.4                  33.6   \n4   Thursday 8:00 pm                       21.8                  25.5   \n\n              Viewership.2  \n0     Most watched episode  \n1            Episode Title  \n2  &quot;Life on the Fast Lane&quot;  \n3         &quot;Bart Gets an F&quot;  \n4          &quot;Colonel Homer&quot;  ",
      "text/html": "<div>\n<style scoped>\n    .dataframe tbody tr th:only-of-type {\n        vertical-align: middle;\n    }\n\n    .dataframe tbody tr th {\n        vertical-align: top;\n    }\n\n    .dataframe thead th {\n        text-align: right;\n    }\n</style>\n<table border=\"1\" class=\"dataframe\">\n  <thead>\n    <tr style=\"text-align: right;\">\n      <th></th>\n      <th>Season</th>\n      <th>Season.1</th>\n      <th>No. ofepisodes</th>\n      <th>Originally aired</th>\n      <th>Originally aired.1</th>\n      <th>Originally aired.2</th>\n      <th>Viewership</th>\n      <th>Viewership.1</th>\n      <th>Viewership.2</th>\n    </tr>\n  </thead>\n  <tbody>\n    <tr>\n      <th>0</th>\n      <td>Season</td>\n      <td>Season</td>\n      <td>No. ofepisodes</td>\n      <td>Season premiere</td>\n      <td>Season finale</td>\n      <td>Time Slot (ET)</td>\n      <td>Avg. viewers(in millions)</td>\n      <td>Most watched episode</td>\n      <td>Most watched episode</td>\n    </tr>\n    <tr>\n      <th>1</th>\n      <td>Season</td>\n      <td>Season</td>\n      <td>No. ofepisodes</td>\n      <td>Season premiere</td>\n      <td>Season finale</td>\n      <td>Time Slot (ET)</td>\n      <td>Avg. viewers(in millions)</td>\n      <td>Viewers(millions)</td>\n      <td>Episode Title</td>\n    </tr>\n    <tr>\n      <th>2</th>\n      <td>1</td>\n      <td>1989–90</td>\n      <td>13</td>\n      <td>December 17, 1989</td>\n      <td>May 13, 1990</td>\n      <td>Sunday 8:30 pm</td>\n      <td>27.8</td>\n      <td>33.5</td>\n      <td>\"Life on the Fast Lane\"</td>\n    </tr>\n    <tr>\n      <th>3</th>\n      <td>2</td>\n      <td>1990–91</td>\n      <td>22</td>\n      <td>October 11, 1990</td>\n      <td>July 11, 1991</td>\n      <td>Thursday 8:00 pm</td>\n      <td>24.4</td>\n      <td>33.6</td>\n      <td>\"Bart Gets an F\"</td>\n    </tr>\n    <tr>\n      <th>4</th>\n      <td>3</td>\n      <td>1991–92</td>\n      <td>24</td>\n      <td>September 19, 1991</td>\n      <td>August 27, 1992</td>\n      <td>Thursday 8:00 pm</td>\n      <td>21.8</td>\n      <td>25.5</td>\n      <td>\"Colonel Homer\"</td>\n    </tr>\n  </tbody>\n</table>\n</div>"
     },
     "metadata": {},
     "execution_count": 21
    }
   ],
   "source": [
    "simpsons = wiki_tables[1]  \n",
    "simpsons.head() "
   ]
  },
  {
   "cell_type": "code",
   "execution_count": 22,
   "metadata": {},
   "outputs": [],
   "source": [
    "simpsons.drop([0, 1], inplace=True)"
   ]
  },
  {
   "cell_type": "code",
   "execution_count": 24,
   "metadata": {},
   "outputs": [],
   "source": [
    "simpsons.set_index('Season', inplace=True)"
   ]
  },
  {
   "cell_type": "code",
   "execution_count": 27,
   "metadata": {},
   "outputs": [
    {
     "output_type": "execute_result",
     "data": {
      "text/plain": "array([&#39;13&#39;, &#39;22&#39;, &#39;24&#39;, &#39;25&#39;, &#39;23&#39;, &#39;21&#39;, &#39;20&#39;], dtype=object)"
     },
     "metadata": {},
     "execution_count": 27
    }
   ],
   "source": [
    "simpsons = simpsons.loc[simpsons['No. ofepisodes'] != 'TBA']\n",
    "\n",
    "simpsons['No. ofepisodes'].unique()"
   ]
  },
  {
   "cell_type": "code",
   "execution_count": 29,
   "metadata": {},
   "outputs": [
    {
     "output_type": "execute_result",
     "data": {
      "text/plain": "       Season.1 No. ofepisodes   Originally aired Originally aired.1  \\\nSeason                                                                 \n1       1989–90             13  December 17, 1989       May 13, 1990   \n\n       Originally aired.2 Viewership Viewership.1             Viewership.2  \nSeason                                                                      \n1          Sunday 8:30 pm       27.8         33.5  &quot;Life on the Fast Lane&quot;  ",
      "text/html": "<div>\n<style scoped>\n    .dataframe tbody tr th:only-of-type {\n        vertical-align: middle;\n    }\n\n    .dataframe tbody tr th {\n        vertical-align: top;\n    }\n\n    .dataframe thead th {\n        text-align: right;\n    }\n</style>\n<table border=\"1\" class=\"dataframe\">\n  <thead>\n    <tr style=\"text-align: right;\">\n      <th></th>\n      <th>Season.1</th>\n      <th>No. ofepisodes</th>\n      <th>Originally aired</th>\n      <th>Originally aired.1</th>\n      <th>Originally aired.2</th>\n      <th>Viewership</th>\n      <th>Viewership.1</th>\n      <th>Viewership.2</th>\n    </tr>\n    <tr>\n      <th>Season</th>\n      <th></th>\n      <th></th>\n      <th></th>\n      <th></th>\n      <th></th>\n      <th></th>\n      <th></th>\n      <th></th>\n    </tr>\n  </thead>\n  <tbody>\n    <tr>\n      <th>1</th>\n      <td>1989–90</td>\n      <td>13</td>\n      <td>December 17, 1989</td>\n      <td>May 13, 1990</td>\n      <td>Sunday 8:30 pm</td>\n      <td>27.8</td>\n      <td>33.5</td>\n      <td>\"Life on the Fast Lane\"</td>\n    </tr>\n  </tbody>\n</table>\n</div>"
     },
     "metadata": {},
     "execution_count": 29
    }
   ],
   "source": [
    "min_season = simpsons['No. ofepisodes'].min()\n",
    "\n",
    "min_season\n",
    "\n",
    "simpsons[simpsons['No. ofepisodes'] == min_season]"
   ]
  },
  {
   "cell_type": "code",
   "execution_count": null,
   "metadata": {},
   "outputs": [],
   "source": [
    "simpsons.to_csv('out.csv')"
   ]
  },
  {
   "cell_type": "code",
   "execution_count": null,
   "metadata": {},
   "outputs": [],
   "source": []
  }
 ]
}